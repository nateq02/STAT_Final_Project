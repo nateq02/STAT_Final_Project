{
 "cells": [
  {
   "attachments": {},
   "cell_type": "markdown",
   "metadata": {},
   "source": [
    "# Project Overview"
   ]
  },
  {
   "attachments": {},
   "cell_type": "markdown",
   "metadata": {},
   "source": [
    "## Objective Statement\n",
    "The objective of this project is to determine some of the features that lead to driver success in F1 racing. Driver success will be defined as whether or not a driver achieves a \"podium\", or in other words, whether or not they finish a race in 1st, 2nd, or 3rd."
   ]
  },
  {
   "attachments": {},
   "cell_type": "markdown",
   "metadata": {},
   "source": [
    "## Data Collection\n",
    "Data will be collected from the following link: http://ergast.com/mrd/\n",
    "\n",
    "This is a link to an API with a database that stores historical racing data. For this project, I used data downloaded on 4/5. By the time the project is submitted, there may be new race data added to the site as more races may happen between the download date and the due submission date for the project. This data consists of a total of 13 files, each containing a different set of information such as driver details, lap times, pit stop data, and race results. "
   ]
  },
  {
   "attachments": {},
   "cell_type": "markdown",
   "metadata": {},
   "source": [
    "## Data Cleaning\n",
    "The downloaded data is stored in multiple different tables so most of the data cleaning in the project will involve joining the tables together in a logical way in order to ensure that it contains different, important driver features. Cleaining will also include imputing missing values, as well as reformatting columns."
   ]
  },
  {
   "attachments": {},
   "cell_type": "markdown",
   "metadata": {},
   "source": [
    "## Data Visualization\n",
    "With regards to data visualization, it will be used for a few things. Its first use will be to visualize the relationships between variables in order to determine how the data is related. Additionally, I will visualize the importances of the variables that determine driver success, which compares how significant all the variables are."
   ]
  },
  {
   "attachments": {},
   "cell_type": "markdown",
   "metadata": {},
   "source": [
    "# Step 1: Importing the data"
   ]
  },
  {
   "attachments": {},
   "cell_type": "markdown",
   "metadata": {},
   "source": [
    "Importing the necessary libraries"
   ]
  },
  {
   "cell_type": "code",
   "execution_count": 2,
   "metadata": {},
   "outputs": [],
   "source": [
    "# libraries for data manipulation and cleaning\n",
    "import numpy as np\n",
    "import pandas as pd\n",
    "import chardet\n",
    "\n",
    "# libraries for data visualization\n",
    "import matplotlib.pyplot as plt\n",
    "import seaborn as sns\n",
    "\n",
    "# libraries for machine learning\n",
    "from sklearn.tree import DecisionTreeRegressor, DecisionTreeClassifier\n",
    "from sklearn.model_selection import train_test_split\n",
    "\n",
    "# libraries used for better formatting\n",
    "from IPython.display import Markdown, display\n"
   ]
  },
  {
   "attachments": {},
   "cell_type": "markdown",
   "metadata": {},
   "source": [
    "Importing the files"
   ]
  },
  {
   "cell_type": "code",
   "execution_count": 3,
   "metadata": {},
   "outputs": [
    {
     "name": "stdout",
     "output_type": "stream",
     "text": [
      "circuits = (77, 9)\n",
      "constructor_results = (12200, 5)\n",
      "constructors = (211, 5)\n",
      "constructor_standings = (12961, 7)\n",
      "drivers = (857, 9)\n",
      "driver_standings = (33942, 7)\n",
      "lap_times = (541113, 6)\n",
      "pit_stops = (9773, 7)\n",
      "qualifying = (9635, 9)\n",
      "races = (1102, 18)\n",
      "results = (25900, 18)\n",
      "status = (139, 2)\n"
     ]
    }
   ],
   "source": [
    "# Sets the path to the folder to a variable\n",
    "folder = \"/Users/natequan/Desktop/Spring2023/STAT4185/FinalProject/form1data/\"\n",
    "\n",
    "# Used to read the type of encryption in the files\n",
    "with open(f\"{folder}/circuits.csv\", 'rb') as f:\n",
    "    result = chardet.detect(f.read())\n",
    "\n",
    "# A list of all the file names\n",
    "files = [\n",
    "    'circuits.csv',\n",
    "    'constructor_results.csv',\n",
    "    'constructors.csv', \n",
    "    'constructor_standings.csv',\n",
    "    'drivers.csv',\n",
    "    'driver_standings.csv',\n",
    "    'lap_times.csv',\n",
    "    'pit_stops.csv',\n",
    "    'qualifying.csv',\n",
    "    'races.csv',\n",
    "    'results.csv',\n",
    "    'status.csv'\n",
    "    ]\n",
    "\n",
    "# Creates a dictionary so that the tables will correspond to a name\n",
    "df_dict = {}\n",
    "\n",
    "# Adds to the dictionary:\n",
    "#    dataset name: dataset\n",
    "for file in files:\n",
    "    path = f\"{folder}{file}\"\n",
    "    split_file = file.split(\".\")\n",
    "    df_name = split_file[0]\n",
    "    df_dict[df_name] = pd.read_csv(path, encoding = result['encoding'])\n",
    "\n",
    "# Prints the dataset name and its shape\n",
    "for key in df_dict.keys():\n",
    "    print(f\"{key} = {df_dict[key].shape}\")"
   ]
  },
  {
   "attachments": {},
   "cell_type": "markdown",
   "metadata": {},
   "source": [
    "# Step 2: Cleaning and Manipulating the Data"
   ]
  },
  {
   "attachments": {},
   "cell_type": "markdown",
   "metadata": {},
   "source": [
    "Shows info on all 13 datasets"
   ]
  },
  {
   "cell_type": "code",
   "execution_count": 4,
   "metadata": {},
   "outputs": [
    {
     "data": {
      "text/markdown": [
       "**<u>circuits</u>**"
      ],
      "text/plain": [
       "<IPython.core.display.Markdown object>"
      ]
     },
     "metadata": {},
     "output_type": "display_data"
    },
    {
     "name": "stdout",
     "output_type": "stream",
     "text": [
      "<class 'pandas.core.frame.DataFrame'>\n",
      "RangeIndex: 77 entries, 0 to 76\n",
      "Data columns (total 9 columns):\n",
      " #   Column      Non-Null Count  Dtype  \n",
      "---  ------      --------------  -----  \n",
      " 0   circuitId   77 non-null     int64  \n",
      " 1   circuitRef  77 non-null     object \n",
      " 2   name        77 non-null     object \n",
      " 3   location    77 non-null     object \n",
      " 4   country     77 non-null     object \n",
      " 5   lat         77 non-null     float64\n",
      " 6   lng         77 non-null     float64\n",
      " 7   alt         77 non-null     object \n",
      " 8   url         77 non-null     object \n",
      "dtypes: float64(2), int64(1), object(6)\n",
      "memory usage: 5.5+ KB\n",
      "None\n"
     ]
    },
    {
     "data": {
      "text/markdown": [
       "**<u>constructor_results</u>**"
      ],
      "text/plain": [
       "<IPython.core.display.Markdown object>"
      ]
     },
     "metadata": {},
     "output_type": "display_data"
    },
    {
     "name": "stdout",
     "output_type": "stream",
     "text": [
      "<class 'pandas.core.frame.DataFrame'>\n",
      "RangeIndex: 12200 entries, 0 to 12199\n",
      "Data columns (total 5 columns):\n",
      " #   Column                Non-Null Count  Dtype  \n",
      "---  ------                --------------  -----  \n",
      " 0   constructorResultsId  12200 non-null  int64  \n",
      " 1   raceId                12200 non-null  int64  \n",
      " 2   constructorId         12200 non-null  int64  \n",
      " 3   points                12200 non-null  float64\n",
      " 4   status                12200 non-null  object \n",
      "dtypes: float64(1), int64(3), object(1)\n",
      "memory usage: 476.7+ KB\n",
      "None\n"
     ]
    },
    {
     "data": {
      "text/markdown": [
       "**<u>constructors</u>**"
      ],
      "text/plain": [
       "<IPython.core.display.Markdown object>"
      ]
     },
     "metadata": {},
     "output_type": "display_data"
    },
    {
     "name": "stdout",
     "output_type": "stream",
     "text": [
      "<class 'pandas.core.frame.DataFrame'>\n",
      "RangeIndex: 211 entries, 0 to 210\n",
      "Data columns (total 5 columns):\n",
      " #   Column          Non-Null Count  Dtype \n",
      "---  ------          --------------  ----- \n",
      " 0   constructorId   211 non-null    int64 \n",
      " 1   constructorRef  211 non-null    object\n",
      " 2   name            211 non-null    object\n",
      " 3   nationality     211 non-null    object\n",
      " 4   url             211 non-null    object\n",
      "dtypes: int64(1), object(4)\n",
      "memory usage: 8.4+ KB\n",
      "None\n"
     ]
    },
    {
     "data": {
      "text/markdown": [
       "**<u>constructor_standings</u>**"
      ],
      "text/plain": [
       "<IPython.core.display.Markdown object>"
      ]
     },
     "metadata": {},
     "output_type": "display_data"
    },
    {
     "name": "stdout",
     "output_type": "stream",
     "text": [
      "<class 'pandas.core.frame.DataFrame'>\n",
      "RangeIndex: 12961 entries, 0 to 12960\n",
      "Data columns (total 7 columns):\n",
      " #   Column                  Non-Null Count  Dtype  \n",
      "---  ------                  --------------  -----  \n",
      " 0   constructorStandingsId  12961 non-null  int64  \n",
      " 1   raceId                  12961 non-null  int64  \n",
      " 2   constructorId           12961 non-null  int64  \n",
      " 3   points                  12961 non-null  float64\n",
      " 4   position                12961 non-null  int64  \n",
      " 5   positionText            12961 non-null  object \n",
      " 6   wins                    12961 non-null  int64  \n",
      "dtypes: float64(1), int64(5), object(1)\n",
      "memory usage: 708.9+ KB\n",
      "None\n"
     ]
    },
    {
     "data": {
      "text/markdown": [
       "**<u>drivers</u>**"
      ],
      "text/plain": [
       "<IPython.core.display.Markdown object>"
      ]
     },
     "metadata": {},
     "output_type": "display_data"
    },
    {
     "name": "stdout",
     "output_type": "stream",
     "text": [
      "<class 'pandas.core.frame.DataFrame'>\n",
      "RangeIndex: 857 entries, 0 to 856\n",
      "Data columns (total 9 columns):\n",
      " #   Column       Non-Null Count  Dtype \n",
      "---  ------       --------------  ----- \n",
      " 0   driverId     857 non-null    int64 \n",
      " 1   driverRef    857 non-null    object\n",
      " 2   number       857 non-null    object\n",
      " 3   code         857 non-null    object\n",
      " 4   forename     857 non-null    object\n",
      " 5   surname      857 non-null    object\n",
      " 6   dob          857 non-null    object\n",
      " 7   nationality  857 non-null    object\n",
      " 8   url          857 non-null    object\n",
      "dtypes: int64(1), object(8)\n",
      "memory usage: 60.4+ KB\n",
      "None\n"
     ]
    },
    {
     "data": {
      "text/markdown": [
       "**<u>driver_standings</u>**"
      ],
      "text/plain": [
       "<IPython.core.display.Markdown object>"
      ]
     },
     "metadata": {},
     "output_type": "display_data"
    },
    {
     "name": "stdout",
     "output_type": "stream",
     "text": [
      "<class 'pandas.core.frame.DataFrame'>\n",
      "RangeIndex: 33942 entries, 0 to 33941\n",
      "Data columns (total 7 columns):\n",
      " #   Column             Non-Null Count  Dtype  \n",
      "---  ------             --------------  -----  \n",
      " 0   driverStandingsId  33942 non-null  int64  \n",
      " 1   raceId             33942 non-null  int64  \n",
      " 2   driverId           33942 non-null  int64  \n",
      " 3   points             33942 non-null  float64\n",
      " 4   position           33942 non-null  int64  \n",
      " 5   positionText       33942 non-null  object \n",
      " 6   wins               33942 non-null  int64  \n",
      "dtypes: float64(1), int64(5), object(1)\n",
      "memory usage: 1.8+ MB\n",
      "None\n"
     ]
    },
    {
     "data": {
      "text/markdown": [
       "**<u>lap_times</u>**"
      ],
      "text/plain": [
       "<IPython.core.display.Markdown object>"
      ]
     },
     "metadata": {},
     "output_type": "display_data"
    },
    {
     "name": "stdout",
     "output_type": "stream",
     "text": [
      "<class 'pandas.core.frame.DataFrame'>\n",
      "RangeIndex: 541113 entries, 0 to 541112\n",
      "Data columns (total 6 columns):\n",
      " #   Column        Non-Null Count   Dtype \n",
      "---  ------        --------------   ----- \n",
      " 0   raceId        541113 non-null  int64 \n",
      " 1   driverId      541113 non-null  int64 \n",
      " 2   lap           541113 non-null  int64 \n",
      " 3   position      541113 non-null  int64 \n",
      " 4   time          541113 non-null  object\n",
      " 5   milliseconds  541113 non-null  int64 \n",
      "dtypes: int64(5), object(1)\n",
      "memory usage: 24.8+ MB\n",
      "None\n"
     ]
    },
    {
     "data": {
      "text/markdown": [
       "**<u>pit_stops</u>**"
      ],
      "text/plain": [
       "<IPython.core.display.Markdown object>"
      ]
     },
     "metadata": {},
     "output_type": "display_data"
    },
    {
     "name": "stdout",
     "output_type": "stream",
     "text": [
      "<class 'pandas.core.frame.DataFrame'>\n",
      "RangeIndex: 9773 entries, 0 to 9772\n",
      "Data columns (total 7 columns):\n",
      " #   Column        Non-Null Count  Dtype \n",
      "---  ------        --------------  ----- \n",
      " 0   raceId        9773 non-null   int64 \n",
      " 1   driverId      9773 non-null   int64 \n",
      " 2   stop          9773 non-null   int64 \n",
      " 3   lap           9773 non-null   int64 \n",
      " 4   time          9773 non-null   object\n",
      " 5   duration      9773 non-null   object\n",
      " 6   milliseconds  9773 non-null   int64 \n",
      "dtypes: int64(5), object(2)\n",
      "memory usage: 534.6+ KB\n",
      "None\n"
     ]
    },
    {
     "data": {
      "text/markdown": [
       "**<u>qualifying</u>**"
      ],
      "text/plain": [
       "<IPython.core.display.Markdown object>"
      ]
     },
     "metadata": {},
     "output_type": "display_data"
    },
    {
     "name": "stdout",
     "output_type": "stream",
     "text": [
      "<class 'pandas.core.frame.DataFrame'>\n",
      "RangeIndex: 9635 entries, 0 to 9634\n",
      "Data columns (total 9 columns):\n",
      " #   Column         Non-Null Count  Dtype \n",
      "---  ------         --------------  ----- \n",
      " 0   qualifyId      9635 non-null   int64 \n",
      " 1   raceId         9635 non-null   int64 \n",
      " 2   driverId       9635 non-null   int64 \n",
      " 3   constructorId  9635 non-null   int64 \n",
      " 4   number         9635 non-null   int64 \n",
      " 5   position       9635 non-null   int64 \n",
      " 6   q1             9627 non-null   object\n",
      " 7   q2             9475 non-null   object\n",
      " 8   q3             9317 non-null   object\n",
      "dtypes: int64(6), object(3)\n",
      "memory usage: 677.6+ KB\n",
      "None\n"
     ]
    },
    {
     "data": {
      "text/markdown": [
       "**<u>races</u>**"
      ],
      "text/plain": [
       "<IPython.core.display.Markdown object>"
      ]
     },
     "metadata": {},
     "output_type": "display_data"
    },
    {
     "name": "stdout",
     "output_type": "stream",
     "text": [
      "<class 'pandas.core.frame.DataFrame'>\n",
      "RangeIndex: 1102 entries, 0 to 1101\n",
      "Data columns (total 18 columns):\n",
      " #   Column       Non-Null Count  Dtype \n",
      "---  ------       --------------  ----- \n",
      " 0   raceId       1102 non-null   int64 \n",
      " 1   year         1102 non-null   int64 \n",
      " 2   round        1102 non-null   int64 \n",
      " 3   circuitId    1102 non-null   int64 \n",
      " 4   name         1102 non-null   object\n",
      " 5   date         1102 non-null   object\n",
      " 6   time         1102 non-null   object\n",
      " 7   url          1102 non-null   object\n",
      " 8   fp1_date     1102 non-null   object\n",
      " 9   fp1_time     1102 non-null   object\n",
      " 10  fp2_date     1102 non-null   object\n",
      " 11  fp2_time     1102 non-null   object\n",
      " 12  fp3_date     1102 non-null   object\n",
      " 13  fp3_time     1102 non-null   object\n",
      " 14  quali_date   1102 non-null   object\n",
      " 15  quali_time   1102 non-null   object\n",
      " 16  sprint_date  1102 non-null   object\n",
      " 17  sprint_time  1102 non-null   object\n",
      "dtypes: int64(4), object(14)\n",
      "memory usage: 155.1+ KB\n",
      "None\n"
     ]
    },
    {
     "data": {
      "text/markdown": [
       "**<u>results</u>**"
      ],
      "text/plain": [
       "<IPython.core.display.Markdown object>"
      ]
     },
     "metadata": {},
     "output_type": "display_data"
    },
    {
     "name": "stdout",
     "output_type": "stream",
     "text": [
      "<class 'pandas.core.frame.DataFrame'>\n",
      "RangeIndex: 25900 entries, 0 to 25899\n",
      "Data columns (total 18 columns):\n",
      " #   Column           Non-Null Count  Dtype  \n",
      "---  ------           --------------  -----  \n",
      " 0   resultId         25900 non-null  int64  \n",
      " 1   raceId           25900 non-null  int64  \n",
      " 2   driverId         25900 non-null  int64  \n",
      " 3   constructorId    25900 non-null  int64  \n",
      " 4   number           25900 non-null  object \n",
      " 5   grid             25900 non-null  int64  \n",
      " 6   position         25900 non-null  object \n",
      " 7   positionText     25900 non-null  object \n",
      " 8   positionOrder    25900 non-null  int64  \n",
      " 9   points           25900 non-null  float64\n",
      " 10  laps             25900 non-null  int64  \n",
      " 11  time             25900 non-null  object \n",
      " 12  milliseconds     25900 non-null  object \n",
      " 13  fastestLap       25900 non-null  object \n",
      " 14  rank             25900 non-null  object \n",
      " 15  fastestLapTime   25900 non-null  object \n",
      " 16  fastestLapSpeed  25900 non-null  object \n",
      " 17  statusId         25900 non-null  int64  \n",
      "dtypes: float64(1), int64(8), object(9)\n",
      "memory usage: 3.6+ MB\n",
      "None\n"
     ]
    },
    {
     "data": {
      "text/markdown": [
       "**<u>status</u>**"
      ],
      "text/plain": [
       "<IPython.core.display.Markdown object>"
      ]
     },
     "metadata": {},
     "output_type": "display_data"
    },
    {
     "name": "stdout",
     "output_type": "stream",
     "text": [
      "<class 'pandas.core.frame.DataFrame'>\n",
      "RangeIndex: 139 entries, 0 to 138\n",
      "Data columns (total 2 columns):\n",
      " #   Column    Non-Null Count  Dtype \n",
      "---  ------    --------------  ----- \n",
      " 0   statusId  139 non-null    int64 \n",
      " 1   status    139 non-null    object\n",
      "dtypes: int64(1), object(1)\n",
      "memory usage: 2.3+ KB\n",
      "None\n"
     ]
    }
   ],
   "source": [
    "for key in df_dict.keys():\n",
    "    display(Markdown(f'**<u>{key}</u>**'))\n",
    "    print(df_dict[key].info())"
   ]
  },
  {
   "attachments": {},
   "cell_type": "markdown",
   "metadata": {},
   "source": [
    "Null values in this dataset are listed as '\\N', so we need to replace this with NaN values"
   ]
  },
  {
   "cell_type": "code",
   "execution_count": 5,
   "metadata": {},
   "outputs": [],
   "source": [
    "for key in df_dict.keys():\n",
    "    df_dict[key] = df_dict[key].replace('\\\\N', np.nan)"
   ]
  },
  {
   "attachments": {},
   "cell_type": "markdown",
   "metadata": {},
   "source": [
    "Converting the positionOrder variable to a float type"
   ]
  },
  {
   "cell_type": "code",
   "execution_count": 6,
   "metadata": {},
   "outputs": [
    {
     "data": {
      "text/plain": [
       "0         1.0\n",
       "1         2.0\n",
       "2         3.0\n",
       "3         4.0\n",
       "4         5.0\n",
       "         ... \n",
       "25895    16.0\n",
       "25896    17.0\n",
       "25897    18.0\n",
       "25898    19.0\n",
       "25899    20.0\n",
       "Name: positionOrder, Length: 25900, dtype: float64"
      ]
     },
     "execution_count": 6,
     "metadata": {},
     "output_type": "execute_result"
    }
   ],
   "source": [
    "df_dict['results']['positionOrder'].astype('float64')"
   ]
  },
  {
   "attachments": {},
   "cell_type": "markdown",
   "metadata": {},
   "source": [
    "Converting the \"milliseconds\" field in the lap_times df into seconds in order to get the lap time into an easier to interpret numerical field."
   ]
  },
  {
   "cell_type": "code",
   "execution_count": 7,
   "metadata": {},
   "outputs": [],
   "source": [
    "df_dict['lap_times']['milliseconds'] = df_dict['lap_times']['milliseconds']/1000\n",
    "df_dict['lap_times'].rename(columns = {'milliseconds': 'lap_time(seconds)'}, inplace = True)"
   ]
  },
  {
   "attachments": {},
   "cell_type": "markdown",
   "metadata": {},
   "source": [
    "Getting the slowest, average, and fastest lap time per racer per each race."
   ]
  },
  {
   "cell_type": "code",
   "execution_count": 8,
   "metadata": {},
   "outputs": [
    {
     "data": {
      "text/html": [
       "<div>\n",
       "<style scoped>\n",
       "    .dataframe tbody tr th:only-of-type {\n",
       "        vertical-align: middle;\n",
       "    }\n",
       "\n",
       "    .dataframe tbody tr th {\n",
       "        vertical-align: top;\n",
       "    }\n",
       "\n",
       "    .dataframe thead th {\n",
       "        text-align: right;\n",
       "    }\n",
       "</style>\n",
       "<table border=\"1\" class=\"dataframe\">\n",
       "  <thead>\n",
       "    <tr style=\"text-align: right;\">\n",
       "      <th></th>\n",
       "      <th>raceId</th>\n",
       "      <th>driverId</th>\n",
       "      <th>fastest_lap</th>\n",
       "      <th>slowest_lap</th>\n",
       "      <th>average_lap</th>\n",
       "    </tr>\n",
       "  </thead>\n",
       "  <tbody>\n",
       "    <tr>\n",
       "      <th>0</th>\n",
       "      <td>1</td>\n",
       "      <td>1</td>\n",
       "      <td>89.020</td>\n",
       "      <td>153.309</td>\n",
       "      <td>97.563759</td>\n",
       "    </tr>\n",
       "    <tr>\n",
       "      <th>1</th>\n",
       "      <td>1</td>\n",
       "      <td>2</td>\n",
       "      <td>88.283</td>\n",
       "      <td>157.754</td>\n",
       "      <td>97.635672</td>\n",
       "    </tr>\n",
       "    <tr>\n",
       "      <th>2</th>\n",
       "      <td>1</td>\n",
       "      <td>3</td>\n",
       "      <td>87.706</td>\n",
       "      <td>155.699</td>\n",
       "      <td>97.612172</td>\n",
       "    </tr>\n",
       "    <tr>\n",
       "      <th>3</th>\n",
       "      <td>1</td>\n",
       "      <td>4</td>\n",
       "      <td>88.712</td>\n",
       "      <td>153.045</td>\n",
       "      <td>97.597638</td>\n",
       "    </tr>\n",
       "    <tr>\n",
       "      <th>4</th>\n",
       "      <td>1</td>\n",
       "      <td>6</td>\n",
       "      <td>89.923</td>\n",
       "      <td>104.899</td>\n",
       "      <td>91.822235</td>\n",
       "    </tr>\n",
       "  </tbody>\n",
       "</table>\n",
       "</div>"
      ],
      "text/plain": [
       "   raceId  driverId  fastest_lap  slowest_lap  average_lap\n",
       "0       1         1       89.020      153.309    97.563759\n",
       "1       1         2       88.283      157.754    97.635672\n",
       "2       1         3       87.706      155.699    97.612172\n",
       "3       1         4       88.712      153.045    97.597638\n",
       "4       1         6       89.923      104.899    91.822235"
      ]
     },
     "execution_count": 8,
     "metadata": {},
     "output_type": "execute_result"
    }
   ],
   "source": [
    "lap_vals = df_dict['lap_times'].groupby(['raceId', 'driverId']).agg({'lap_time(seconds)':['min', 'max', 'mean']}).reset_index()\n",
    "lap_vals.columns = lap_vals.columns.map('_'.join)\n",
    "\n",
    "lap_vals.rename(columns = {'raceId_': 'raceId', 'driverId_':'driverId', 'lap_time(seconds)_min':'fastest_lap',\n",
    "                            'lap_time(seconds)_max':'slowest_lap', 'lap_time(seconds)_mean':'average_lap'}, inplace = True)\n",
    "\n",
    "lap_vals.head()"
   ]
  },
  {
   "attachments": {},
   "cell_type": "markdown",
   "metadata": {},
   "source": [
    "Cleaning the qualifying table: converting the q1, q2, and q3 times into a numerical seconds field."
   ]
  },
  {
   "cell_type": "code",
   "execution_count": 9,
   "metadata": {},
   "outputs": [],
   "source": [
    "def time_to_sec(time_str):\n",
    "    time_str = str(time_str)\n",
    "    time_list = time_str.split(':')\n",
    "    if len(time_list) != 2:\n",
    "        return np.nan\n",
    "    else:\n",
    "        min = time_list[0]\n",
    "        sec = time_list[1]\n",
    "    total_sec = int(min) *60 + float(sec)\n",
    "    return total_sec\n",
    "    "
   ]
  },
  {
   "cell_type": "code",
   "execution_count": 10,
   "metadata": {},
   "outputs": [],
   "source": [
    "df_dict['qualifying']['q1'] = df_dict['qualifying']['q1'].apply(time_to_sec)\n",
    "df_dict['qualifying']['q2'] = df_dict['qualifying']['q2'].apply(time_to_sec)\n",
    "df_dict['qualifying']['q3'] = df_dict['qualifying']['q3'].apply(time_to_sec)\n"
   ]
  },
  {
   "attachments": {},
   "cell_type": "markdown",
   "metadata": {},
   "source": [
    "Converting the milliseconds field of the pitstops table to seconds to make it easier to interpret and to maintain consistency"
   ]
  },
  {
   "cell_type": "code",
   "execution_count": 11,
   "metadata": {},
   "outputs": [],
   "source": [
    "df_dict['pit_stops']['milliseconds'] = df_dict['pit_stops']['milliseconds'] / 1000\n",
    "df_dict['pit_stops'].rename(columns = {'milliseconds':'pit_stop_seconds'}, inplace = True)\n"
   ]
  },
  {
   "attachments": {},
   "cell_type": "markdown",
   "metadata": {},
   "source": [
    "Creating a new pitstop df that counts the amount of pitstops per race, and total pitstop time in a race"
   ]
  },
  {
   "cell_type": "code",
   "execution_count": 12,
   "metadata": {},
   "outputs": [
    {
     "data": {
      "text/html": [
       "<div>\n",
       "<style scoped>\n",
       "    .dataframe tbody tr th:only-of-type {\n",
       "        vertical-align: middle;\n",
       "    }\n",
       "\n",
       "    .dataframe tbody tr th {\n",
       "        vertical-align: top;\n",
       "    }\n",
       "\n",
       "    .dataframe thead th {\n",
       "        text-align: right;\n",
       "    }\n",
       "</style>\n",
       "<table border=\"1\" class=\"dataframe\">\n",
       "  <thead>\n",
       "    <tr style=\"text-align: right;\">\n",
       "      <th></th>\n",
       "      <th>raceId</th>\n",
       "      <th>driverId</th>\n",
       "      <th>#_of_pit_stops</th>\n",
       "      <th>total_time_in_pit</th>\n",
       "    </tr>\n",
       "  </thead>\n",
       "  <tbody>\n",
       "    <tr>\n",
       "      <th>0</th>\n",
       "      <td>841</td>\n",
       "      <td>1</td>\n",
       "      <td>2</td>\n",
       "      <td>46.426</td>\n",
       "    </tr>\n",
       "    <tr>\n",
       "      <th>1</th>\n",
       "      <td>841</td>\n",
       "      <td>2</td>\n",
       "      <td>2</td>\n",
       "      <td>48.092</td>\n",
       "    </tr>\n",
       "    <tr>\n",
       "      <th>2</th>\n",
       "      <td>841</td>\n",
       "      <td>3</td>\n",
       "      <td>1</td>\n",
       "      <td>23.716</td>\n",
       "    </tr>\n",
       "    <tr>\n",
       "      <th>3</th>\n",
       "      <td>841</td>\n",
       "      <td>4</td>\n",
       "      <td>3</td>\n",
       "      <td>72.165</td>\n",
       "    </tr>\n",
       "    <tr>\n",
       "      <th>4</th>\n",
       "      <td>841</td>\n",
       "      <td>5</td>\n",
       "      <td>1</td>\n",
       "      <td>24.865</td>\n",
       "    </tr>\n",
       "  </tbody>\n",
       "</table>\n",
       "</div>"
      ],
      "text/plain": [
       "   raceId  driverId  #_of_pit_stops  total_time_in_pit\n",
       "0     841         1               2             46.426\n",
       "1     841         2               2             48.092\n",
       "2     841         3               1             23.716\n",
       "3     841         4               3             72.165\n",
       "4     841         5               1             24.865"
      ]
     },
     "execution_count": 12,
     "metadata": {},
     "output_type": "execute_result"
    }
   ],
   "source": [
    "ps = df_dict['pit_stops'].groupby(['raceId', 'driverId']).agg({'stop':'max', 'pit_stop_seconds':'sum'}).reset_index()\n",
    "\n",
    "ps.rename(columns = {'stop':'#_of_pit_stops','pit_stop_seconds':'total_time_in_pit'}, inplace = True)\n",
    "\n",
    "ps.head()"
   ]
  },
  {
   "attachments": {},
   "cell_type": "markdown",
   "metadata": {},
   "source": [
    "Cleaning the results table. Converting milliseconds to seconds again, converting fastestLapSpeed to float"
   ]
  },
  {
   "cell_type": "code",
   "execution_count": 13,
   "metadata": {},
   "outputs": [
    {
     "name": "stdout",
     "output_type": "stream",
     "text": [
      "<class 'pandas.core.frame.DataFrame'>\n",
      "RangeIndex: 25900 entries, 0 to 25899\n",
      "Data columns (total 18 columns):\n",
      " #   Column                   Non-Null Count  Dtype  \n",
      "---  ------                   --------------  -----  \n",
      " 0   resultId                 25900 non-null  int64  \n",
      " 1   raceId                   25900 non-null  int64  \n",
      " 2   driverId                 25900 non-null  int64  \n",
      " 3   constructorId            25900 non-null  int64  \n",
      " 4   number                   25894 non-null  object \n",
      " 5   grid                     25900 non-null  int64  \n",
      " 6   position                 15041 non-null  float64\n",
      " 7   positionText             25900 non-null  object \n",
      " 8   final_race_position      25900 non-null  int64  \n",
      " 9   points                   25900 non-null  float64\n",
      " 10  laps                     25900 non-null  int64  \n",
      " 11  time                     7128 non-null   object \n",
      " 12  whole_race_time(sec)     7127 non-null   float64\n",
      " 13  fastest_lap#             7438 non-null   object \n",
      " 14  fastest_lap_rank         7651 non-null   float64\n",
      " 15  fastestLapTime           7438 non-null   object \n",
      " 16  fastest_lap_speed(km/h)  7438 non-null   float64\n",
      " 17  statusId                 25900 non-null  int64  \n",
      "dtypes: float64(5), int64(8), object(5)\n",
      "memory usage: 3.6+ MB\n"
     ]
    }
   ],
   "source": [
    "df_dict['results']['milliseconds']= pd.to_numeric(df_dict['results']['milliseconds'])\n",
    "df_dict['results']['milliseconds'] = df_dict['results']['milliseconds'] / 1000\n",
    "df_dict['results'].rename(columns = {'milliseconds':'whole_race_time(sec)'}, inplace = True)\n",
    "\n",
    "df_dict['results']['fastestLapSpeed'] = pd.to_numeric(df_dict['results']['fastestLapSpeed'])\n",
    "df_dict['results']['rank'] = pd.to_numeric(df_dict['results']['rank'])\n",
    "df_dict['results']['position'] = pd.to_numeric(df_dict['results']['position'])\n",
    "\n",
    "\n",
    "df_dict['results'].rename(columns = {'positionOrder': 'final_race_position', 'fastestLap':'fastest_lap#', 'fastestLapSpeed': 'fastest_lap_speed(km/h)',\n",
    "                                     'rank':'fastest_lap_rank'}, inplace = True)\n",
    "\n",
    "df_dict['results'].info()\n"
   ]
  },
  {
   "attachments": {},
   "cell_type": "markdown",
   "metadata": {},
   "source": [
    "Creates a dataframe that will be used to store driver data and results. Merges the drivers and drvier_standings tables to get the standings of the drivers after each race. It also gives details about accumulated placement points and how many wins so far throughout the season. "
   ]
  },
  {
   "cell_type": "code",
   "execution_count": 14,
   "metadata": {},
   "outputs": [
    {
     "data": {
      "text/html": [
       "<div>\n",
       "<style scoped>\n",
       "    .dataframe tbody tr th:only-of-type {\n",
       "        vertical-align: middle;\n",
       "    }\n",
       "\n",
       "    .dataframe tbody tr th {\n",
       "        vertical-align: top;\n",
       "    }\n",
       "\n",
       "    .dataframe thead th {\n",
       "        text-align: right;\n",
       "    }\n",
       "</style>\n",
       "<table border=\"1\" class=\"dataframe\">\n",
       "  <thead>\n",
       "    <tr style=\"text-align: right;\">\n",
       "      <th></th>\n",
       "      <th>driverId</th>\n",
       "      <th>driverRef</th>\n",
       "      <th>raceId</th>\n",
       "      <th>season_points</th>\n",
       "      <th>season_position</th>\n",
       "      <th>season_wins</th>\n",
       "    </tr>\n",
       "  </thead>\n",
       "  <tbody>\n",
       "    <tr>\n",
       "      <th>0</th>\n",
       "      <td>1</td>\n",
       "      <td>hamilton</td>\n",
       "      <td>18</td>\n",
       "      <td>10.0</td>\n",
       "      <td>1</td>\n",
       "      <td>1</td>\n",
       "    </tr>\n",
       "    <tr>\n",
       "      <th>1</th>\n",
       "      <td>1</td>\n",
       "      <td>hamilton</td>\n",
       "      <td>19</td>\n",
       "      <td>14.0</td>\n",
       "      <td>1</td>\n",
       "      <td>1</td>\n",
       "    </tr>\n",
       "    <tr>\n",
       "      <th>2</th>\n",
       "      <td>1</td>\n",
       "      <td>hamilton</td>\n",
       "      <td>20</td>\n",
       "      <td>14.0</td>\n",
       "      <td>3</td>\n",
       "      <td>1</td>\n",
       "    </tr>\n",
       "    <tr>\n",
       "      <th>3</th>\n",
       "      <td>1</td>\n",
       "      <td>hamilton</td>\n",
       "      <td>21</td>\n",
       "      <td>20.0</td>\n",
       "      <td>2</td>\n",
       "      <td>1</td>\n",
       "    </tr>\n",
       "    <tr>\n",
       "      <th>4</th>\n",
       "      <td>1</td>\n",
       "      <td>hamilton</td>\n",
       "      <td>22</td>\n",
       "      <td>28.0</td>\n",
       "      <td>3</td>\n",
       "      <td>1</td>\n",
       "    </tr>\n",
       "    <tr>\n",
       "      <th>5</th>\n",
       "      <td>1</td>\n",
       "      <td>hamilton</td>\n",
       "      <td>23</td>\n",
       "      <td>38.0</td>\n",
       "      <td>1</td>\n",
       "      <td>2</td>\n",
       "    </tr>\n",
       "    <tr>\n",
       "      <th>6</th>\n",
       "      <td>1</td>\n",
       "      <td>hamilton</td>\n",
       "      <td>24</td>\n",
       "      <td>38.0</td>\n",
       "      <td>2</td>\n",
       "      <td>2</td>\n",
       "    </tr>\n",
       "    <tr>\n",
       "      <th>7</th>\n",
       "      <td>1</td>\n",
       "      <td>hamilton</td>\n",
       "      <td>25</td>\n",
       "      <td>38.0</td>\n",
       "      <td>4</td>\n",
       "      <td>2</td>\n",
       "    </tr>\n",
       "    <tr>\n",
       "      <th>8</th>\n",
       "      <td>1</td>\n",
       "      <td>hamilton</td>\n",
       "      <td>26</td>\n",
       "      <td>48.0</td>\n",
       "      <td>1</td>\n",
       "      <td>3</td>\n",
       "    </tr>\n",
       "    <tr>\n",
       "      <th>9</th>\n",
       "      <td>1</td>\n",
       "      <td>hamilton</td>\n",
       "      <td>27</td>\n",
       "      <td>58.0</td>\n",
       "      <td>1</td>\n",
       "      <td>4</td>\n",
       "    </tr>\n",
       "    <tr>\n",
       "      <th>10</th>\n",
       "      <td>1</td>\n",
       "      <td>hamilton</td>\n",
       "      <td>28</td>\n",
       "      <td>62.0</td>\n",
       "      <td>1</td>\n",
       "      <td>4</td>\n",
       "    </tr>\n",
       "    <tr>\n",
       "      <th>11</th>\n",
       "      <td>1</td>\n",
       "      <td>hamilton</td>\n",
       "      <td>29</td>\n",
       "      <td>70.0</td>\n",
       "      <td>1</td>\n",
       "      <td>4</td>\n",
       "    </tr>\n",
       "    <tr>\n",
       "      <th>12</th>\n",
       "      <td>1</td>\n",
       "      <td>hamilton</td>\n",
       "      <td>30</td>\n",
       "      <td>76.0</td>\n",
       "      <td>1</td>\n",
       "      <td>4</td>\n",
       "    </tr>\n",
       "    <tr>\n",
       "      <th>13</th>\n",
       "      <td>1</td>\n",
       "      <td>hamilton</td>\n",
       "      <td>31</td>\n",
       "      <td>78.0</td>\n",
       "      <td>1</td>\n",
       "      <td>4</td>\n",
       "    </tr>\n",
       "    <tr>\n",
       "      <th>14</th>\n",
       "      <td>1</td>\n",
       "      <td>hamilton</td>\n",
       "      <td>32</td>\n",
       "      <td>84.0</td>\n",
       "      <td>1</td>\n",
       "      <td>4</td>\n",
       "    </tr>\n",
       "    <tr>\n",
       "      <th>15</th>\n",
       "      <td>1</td>\n",
       "      <td>hamilton</td>\n",
       "      <td>33</td>\n",
       "      <td>84.0</td>\n",
       "      <td>1</td>\n",
       "      <td>4</td>\n",
       "    </tr>\n",
       "    <tr>\n",
       "      <th>16</th>\n",
       "      <td>1</td>\n",
       "      <td>hamilton</td>\n",
       "      <td>34</td>\n",
       "      <td>94.0</td>\n",
       "      <td>1</td>\n",
       "      <td>5</td>\n",
       "    </tr>\n",
       "    <tr>\n",
       "      <th>17</th>\n",
       "      <td>1</td>\n",
       "      <td>hamilton</td>\n",
       "      <td>35</td>\n",
       "      <td>98.0</td>\n",
       "      <td>1</td>\n",
       "      <td>5</td>\n",
       "    </tr>\n",
       "    <tr>\n",
       "      <th>18</th>\n",
       "      <td>1</td>\n",
       "      <td>hamilton</td>\n",
       "      <td>38</td>\n",
       "      <td>22.0</td>\n",
       "      <td>3</td>\n",
       "      <td>0</td>\n",
       "    </tr>\n",
       "    <tr>\n",
       "      <th>19</th>\n",
       "      <td>1</td>\n",
       "      <td>hamilton</td>\n",
       "      <td>969</td>\n",
       "      <td>18.0</td>\n",
       "      <td>2</td>\n",
       "      <td>0</td>\n",
       "    </tr>\n",
       "    <tr>\n",
       "      <th>20</th>\n",
       "      <td>1</td>\n",
       "      <td>hamilton</td>\n",
       "      <td>36</td>\n",
       "      <td>6.0</td>\n",
       "      <td>3</td>\n",
       "      <td>0</td>\n",
       "    </tr>\n",
       "    <tr>\n",
       "      <th>21</th>\n",
       "      <td>1</td>\n",
       "      <td>hamilton</td>\n",
       "      <td>37</td>\n",
       "      <td>14.0</td>\n",
       "      <td>3</td>\n",
       "      <td>0</td>\n",
       "    </tr>\n",
       "    <tr>\n",
       "      <th>22</th>\n",
       "      <td>1</td>\n",
       "      <td>hamilton</td>\n",
       "      <td>39</td>\n",
       "      <td>30.0</td>\n",
       "      <td>1</td>\n",
       "      <td>0</td>\n",
       "    </tr>\n",
       "    <tr>\n",
       "      <th>23</th>\n",
       "      <td>1</td>\n",
       "      <td>hamilton</td>\n",
       "      <td>40</td>\n",
       "      <td>38.0</td>\n",
       "      <td>2</td>\n",
       "      <td>0</td>\n",
       "    </tr>\n",
       "    <tr>\n",
       "      <th>24</th>\n",
       "      <td>1</td>\n",
       "      <td>hamilton</td>\n",
       "      <td>41</td>\n",
       "      <td>48.0</td>\n",
       "      <td>1</td>\n",
       "      <td>1</td>\n",
       "    </tr>\n",
       "  </tbody>\n",
       "</table>\n",
       "</div>"
      ],
      "text/plain": [
       "    driverId driverRef  raceId  season_points  season_position  season_wins\n",
       "0          1  hamilton      18           10.0                1            1\n",
       "1          1  hamilton      19           14.0                1            1\n",
       "2          1  hamilton      20           14.0                3            1\n",
       "3          1  hamilton      21           20.0                2            1\n",
       "4          1  hamilton      22           28.0                3            1\n",
       "5          1  hamilton      23           38.0                1            2\n",
       "6          1  hamilton      24           38.0                2            2\n",
       "7          1  hamilton      25           38.0                4            2\n",
       "8          1  hamilton      26           48.0                1            3\n",
       "9          1  hamilton      27           58.0                1            4\n",
       "10         1  hamilton      28           62.0                1            4\n",
       "11         1  hamilton      29           70.0                1            4\n",
       "12         1  hamilton      30           76.0                1            4\n",
       "13         1  hamilton      31           78.0                1            4\n",
       "14         1  hamilton      32           84.0                1            4\n",
       "15         1  hamilton      33           84.0                1            4\n",
       "16         1  hamilton      34           94.0                1            5\n",
       "17         1  hamilton      35           98.0                1            5\n",
       "18         1  hamilton      38           22.0                3            0\n",
       "19         1  hamilton     969           18.0                2            0\n",
       "20         1  hamilton      36            6.0                3            0\n",
       "21         1  hamilton      37           14.0                3            0\n",
       "22         1  hamilton      39           30.0                1            0\n",
       "23         1  hamilton      40           38.0                2            0\n",
       "24         1  hamilton      41           48.0                1            1"
      ]
     },
     "execution_count": 14,
     "metadata": {},
     "output_type": "execute_result"
    }
   ],
   "source": [
    "dr = pd.merge(df_dict['drivers'], df_dict['driver_standings'], on = 'driverId')\n",
    "dr.drop(columns = ['forename', 'surname', 'number', 'code', 'dob', 'nationality', 'url', 'driverStandingsId', 'positionText'], inplace = True)\n",
    "dr.rename(columns = {'points': 'season_points', 'position': 'season_position', 'wins': 'season_wins'}, inplace = True)\n",
    "dr.head(25)"
   ]
  },
  {
   "attachments": {},
   "cell_type": "markdown",
   "metadata": {},
   "source": [
    "Merges the main, dr dataframe with the races dataframe in order to add more information about the races, such as time and year"
   ]
  },
  {
   "cell_type": "code",
   "execution_count": 15,
   "metadata": {},
   "outputs": [
    {
     "data": {
      "text/html": [
       "<div>\n",
       "<style scoped>\n",
       "    .dataframe tbody tr th:only-of-type {\n",
       "        vertical-align: middle;\n",
       "    }\n",
       "\n",
       "    .dataframe tbody tr th {\n",
       "        vertical-align: top;\n",
       "    }\n",
       "\n",
       "    .dataframe thead th {\n",
       "        text-align: right;\n",
       "    }\n",
       "</style>\n",
       "<table border=\"1\" class=\"dataframe\">\n",
       "  <thead>\n",
       "    <tr style=\"text-align: right;\">\n",
       "      <th></th>\n",
       "      <th>driverId</th>\n",
       "      <th>driverRef</th>\n",
       "      <th>raceId</th>\n",
       "      <th>season_points</th>\n",
       "      <th>season_position</th>\n",
       "      <th>season_wins</th>\n",
       "      <th>year</th>\n",
       "      <th>round</th>\n",
       "      <th>circuitId</th>\n",
       "      <th>name</th>\n",
       "      <th>...</th>\n",
       "      <th>fp1_date</th>\n",
       "      <th>fp1_time</th>\n",
       "      <th>fp2_date</th>\n",
       "      <th>fp2_time</th>\n",
       "      <th>fp3_date</th>\n",
       "      <th>fp3_time</th>\n",
       "      <th>quali_date</th>\n",
       "      <th>quali_time</th>\n",
       "      <th>sprint_date</th>\n",
       "      <th>sprint_time</th>\n",
       "    </tr>\n",
       "  </thead>\n",
       "  <tbody>\n",
       "    <tr>\n",
       "      <th>0</th>\n",
       "      <td>1</td>\n",
       "      <td>hamilton</td>\n",
       "      <td>18</td>\n",
       "      <td>10.0</td>\n",
       "      <td>1</td>\n",
       "      <td>1</td>\n",
       "      <td>2008</td>\n",
       "      <td>1</td>\n",
       "      <td>1</td>\n",
       "      <td>Australian Grand Prix</td>\n",
       "      <td>...</td>\n",
       "      <td>NaN</td>\n",
       "      <td>NaN</td>\n",
       "      <td>NaN</td>\n",
       "      <td>NaN</td>\n",
       "      <td>NaN</td>\n",
       "      <td>NaN</td>\n",
       "      <td>NaN</td>\n",
       "      <td>NaN</td>\n",
       "      <td>NaN</td>\n",
       "      <td>NaN</td>\n",
       "    </tr>\n",
       "    <tr>\n",
       "      <th>1</th>\n",
       "      <td>2</td>\n",
       "      <td>heidfeld</td>\n",
       "      <td>18</td>\n",
       "      <td>8.0</td>\n",
       "      <td>2</td>\n",
       "      <td>0</td>\n",
       "      <td>2008</td>\n",
       "      <td>1</td>\n",
       "      <td>1</td>\n",
       "      <td>Australian Grand Prix</td>\n",
       "      <td>...</td>\n",
       "      <td>NaN</td>\n",
       "      <td>NaN</td>\n",
       "      <td>NaN</td>\n",
       "      <td>NaN</td>\n",
       "      <td>NaN</td>\n",
       "      <td>NaN</td>\n",
       "      <td>NaN</td>\n",
       "      <td>NaN</td>\n",
       "      <td>NaN</td>\n",
       "      <td>NaN</td>\n",
       "    </tr>\n",
       "    <tr>\n",
       "      <th>2</th>\n",
       "      <td>3</td>\n",
       "      <td>rosberg</td>\n",
       "      <td>18</td>\n",
       "      <td>6.0</td>\n",
       "      <td>3</td>\n",
       "      <td>0</td>\n",
       "      <td>2008</td>\n",
       "      <td>1</td>\n",
       "      <td>1</td>\n",
       "      <td>Australian Grand Prix</td>\n",
       "      <td>...</td>\n",
       "      <td>NaN</td>\n",
       "      <td>NaN</td>\n",
       "      <td>NaN</td>\n",
       "      <td>NaN</td>\n",
       "      <td>NaN</td>\n",
       "      <td>NaN</td>\n",
       "      <td>NaN</td>\n",
       "      <td>NaN</td>\n",
       "      <td>NaN</td>\n",
       "      <td>NaN</td>\n",
       "    </tr>\n",
       "    <tr>\n",
       "      <th>3</th>\n",
       "      <td>4</td>\n",
       "      <td>alonso</td>\n",
       "      <td>18</td>\n",
       "      <td>5.0</td>\n",
       "      <td>4</td>\n",
       "      <td>0</td>\n",
       "      <td>2008</td>\n",
       "      <td>1</td>\n",
       "      <td>1</td>\n",
       "      <td>Australian Grand Prix</td>\n",
       "      <td>...</td>\n",
       "      <td>NaN</td>\n",
       "      <td>NaN</td>\n",
       "      <td>NaN</td>\n",
       "      <td>NaN</td>\n",
       "      <td>NaN</td>\n",
       "      <td>NaN</td>\n",
       "      <td>NaN</td>\n",
       "      <td>NaN</td>\n",
       "      <td>NaN</td>\n",
       "      <td>NaN</td>\n",
       "    </tr>\n",
       "    <tr>\n",
       "      <th>4</th>\n",
       "      <td>5</td>\n",
       "      <td>kovalainen</td>\n",
       "      <td>18</td>\n",
       "      <td>4.0</td>\n",
       "      <td>5</td>\n",
       "      <td>0</td>\n",
       "      <td>2008</td>\n",
       "      <td>1</td>\n",
       "      <td>1</td>\n",
       "      <td>Australian Grand Prix</td>\n",
       "      <td>...</td>\n",
       "      <td>NaN</td>\n",
       "      <td>NaN</td>\n",
       "      <td>NaN</td>\n",
       "      <td>NaN</td>\n",
       "      <td>NaN</td>\n",
       "      <td>NaN</td>\n",
       "      <td>NaN</td>\n",
       "      <td>NaN</td>\n",
       "      <td>NaN</td>\n",
       "      <td>NaN</td>\n",
       "    </tr>\n",
       "  </tbody>\n",
       "</table>\n",
       "<p>5 rows × 23 columns</p>\n",
       "</div>"
      ],
      "text/plain": [
       "   driverId   driverRef  raceId  season_points  season_position  season_wins  \\\n",
       "0         1    hamilton      18           10.0                1            1   \n",
       "1         2    heidfeld      18            8.0                2            0   \n",
       "2         3     rosberg      18            6.0                3            0   \n",
       "3         4      alonso      18            5.0                4            0   \n",
       "4         5  kovalainen      18            4.0                5            0   \n",
       "\n",
       "   year  round  circuitId                   name  ... fp1_date fp1_time  \\\n",
       "0  2008      1          1  Australian Grand Prix  ...      NaN      NaN   \n",
       "1  2008      1          1  Australian Grand Prix  ...      NaN      NaN   \n",
       "2  2008      1          1  Australian Grand Prix  ...      NaN      NaN   \n",
       "3  2008      1          1  Australian Grand Prix  ...      NaN      NaN   \n",
       "4  2008      1          1  Australian Grand Prix  ...      NaN      NaN   \n",
       "\n",
       "  fp2_date fp2_time fp3_date fp3_time quali_date quali_time sprint_date  \\\n",
       "0      NaN      NaN      NaN      NaN        NaN        NaN         NaN   \n",
       "1      NaN      NaN      NaN      NaN        NaN        NaN         NaN   \n",
       "2      NaN      NaN      NaN      NaN        NaN        NaN         NaN   \n",
       "3      NaN      NaN      NaN      NaN        NaN        NaN         NaN   \n",
       "4      NaN      NaN      NaN      NaN        NaN        NaN         NaN   \n",
       "\n",
       "  sprint_time  \n",
       "0         NaN  \n",
       "1         NaN  \n",
       "2         NaN  \n",
       "3         NaN  \n",
       "4         NaN  \n",
       "\n",
       "[5 rows x 23 columns]"
      ]
     },
     "execution_count": 15,
     "metadata": {},
     "output_type": "execute_result"
    }
   ],
   "source": [
    "dr = pd.merge(dr, df_dict['races'], on = 'raceId')\n",
    "dr.head()"
   ]
  },
  {
   "attachments": {},
   "cell_type": "markdown",
   "metadata": {},
   "source": [
    "Dropping the unnecessary columns that were added as part of the races table. Date and time fields are not very important in determining if a driver will podium."
   ]
  },
  {
   "cell_type": "code",
   "execution_count": 16,
   "metadata": {},
   "outputs": [
    {
     "data": {
      "text/html": [
       "<div>\n",
       "<style scoped>\n",
       "    .dataframe tbody tr th:only-of-type {\n",
       "        vertical-align: middle;\n",
       "    }\n",
       "\n",
       "    .dataframe tbody tr th {\n",
       "        vertical-align: top;\n",
       "    }\n",
       "\n",
       "    .dataframe thead th {\n",
       "        text-align: right;\n",
       "    }\n",
       "</style>\n",
       "<table border=\"1\" class=\"dataframe\">\n",
       "  <thead>\n",
       "    <tr style=\"text-align: right;\">\n",
       "      <th></th>\n",
       "      <th>driverId</th>\n",
       "      <th>driverRef</th>\n",
       "      <th>raceId</th>\n",
       "      <th>season_points</th>\n",
       "      <th>season_position</th>\n",
       "      <th>season_wins</th>\n",
       "      <th>circuitId</th>\n",
       "      <th>race_name</th>\n",
       "    </tr>\n",
       "  </thead>\n",
       "  <tbody>\n",
       "    <tr>\n",
       "      <th>0</th>\n",
       "      <td>1</td>\n",
       "      <td>hamilton</td>\n",
       "      <td>18</td>\n",
       "      <td>10.0</td>\n",
       "      <td>1</td>\n",
       "      <td>1</td>\n",
       "      <td>1</td>\n",
       "      <td>Australian Grand Prix</td>\n",
       "    </tr>\n",
       "    <tr>\n",
       "      <th>1</th>\n",
       "      <td>2</td>\n",
       "      <td>heidfeld</td>\n",
       "      <td>18</td>\n",
       "      <td>8.0</td>\n",
       "      <td>2</td>\n",
       "      <td>0</td>\n",
       "      <td>1</td>\n",
       "      <td>Australian Grand Prix</td>\n",
       "    </tr>\n",
       "    <tr>\n",
       "      <th>2</th>\n",
       "      <td>3</td>\n",
       "      <td>rosberg</td>\n",
       "      <td>18</td>\n",
       "      <td>6.0</td>\n",
       "      <td>3</td>\n",
       "      <td>0</td>\n",
       "      <td>1</td>\n",
       "      <td>Australian Grand Prix</td>\n",
       "    </tr>\n",
       "    <tr>\n",
       "      <th>3</th>\n",
       "      <td>4</td>\n",
       "      <td>alonso</td>\n",
       "      <td>18</td>\n",
       "      <td>5.0</td>\n",
       "      <td>4</td>\n",
       "      <td>0</td>\n",
       "      <td>1</td>\n",
       "      <td>Australian Grand Prix</td>\n",
       "    </tr>\n",
       "    <tr>\n",
       "      <th>4</th>\n",
       "      <td>5</td>\n",
       "      <td>kovalainen</td>\n",
       "      <td>18</td>\n",
       "      <td>4.0</td>\n",
       "      <td>5</td>\n",
       "      <td>0</td>\n",
       "      <td>1</td>\n",
       "      <td>Australian Grand Prix</td>\n",
       "    </tr>\n",
       "  </tbody>\n",
       "</table>\n",
       "</div>"
      ],
      "text/plain": [
       "   driverId   driverRef  raceId  season_points  season_position  season_wins  \\\n",
       "0         1    hamilton      18           10.0                1            1   \n",
       "1         2    heidfeld      18            8.0                2            0   \n",
       "2         3     rosberg      18            6.0                3            0   \n",
       "3         4      alonso      18            5.0                4            0   \n",
       "4         5  kovalainen      18            4.0                5            0   \n",
       "\n",
       "   circuitId              race_name  \n",
       "0          1  Australian Grand Prix  \n",
       "1          1  Australian Grand Prix  \n",
       "2          1  Australian Grand Prix  \n",
       "3          1  Australian Grand Prix  \n",
       "4          1  Australian Grand Prix  "
      ]
     },
     "execution_count": 16,
     "metadata": {},
     "output_type": "execute_result"
    }
   ],
   "source": [
    "dr.drop(columns = ['year', 'round', 'url', 'fp1_date', 'fp1_time', 'fp2_date', 'fp2_time', 'fp3_date', 'fp3_time', 'quali_date', 'quali_time', 'sprint_date', 'sprint_time'], inplace = True)\n",
    "\n",
    "#dr['date'] = pd.to_datetime(dr['date'])\n",
    "#dr['race_year'] = dr['date'].dt.year\n",
    "#dr['race_month'] = dr['date'].dt.month\n",
    "#dr['race_day'] = dr['date'].dt.day\n",
    "\n",
    "#dr['time'] = pd.to_datetime(dr['time'])\n",
    "#dr['race_hour'] = dr['time'].dt.hour\n",
    "#dr['race_min'] = dr['time'].dt.minute\n",
    "\n",
    "dr.drop(columns = ['date', 'time'], inplace = True)\n",
    "dr.rename(columns = {'name': 'race_name'}, inplace = True)\n",
    "\n",
    "dr.head()"
   ]
  },
  {
   "attachments": {},
   "cell_type": "markdown",
   "metadata": {},
   "source": [
    "Merging the main, dr dataframe with the lap_vals dataframe in order to add lap time data for each race."
   ]
  },
  {
   "cell_type": "code",
   "execution_count": 17,
   "metadata": {},
   "outputs": [
    {
     "data": {
      "text/html": [
       "<div>\n",
       "<style scoped>\n",
       "    .dataframe tbody tr th:only-of-type {\n",
       "        vertical-align: middle;\n",
       "    }\n",
       "\n",
       "    .dataframe tbody tr th {\n",
       "        vertical-align: top;\n",
       "    }\n",
       "\n",
       "    .dataframe thead th {\n",
       "        text-align: right;\n",
       "    }\n",
       "</style>\n",
       "<table border=\"1\" class=\"dataframe\">\n",
       "  <thead>\n",
       "    <tr style=\"text-align: right;\">\n",
       "      <th></th>\n",
       "      <th>driverId</th>\n",
       "      <th>driverRef</th>\n",
       "      <th>raceId</th>\n",
       "      <th>season_points</th>\n",
       "      <th>season_position</th>\n",
       "      <th>season_wins</th>\n",
       "      <th>circuitId</th>\n",
       "      <th>race_name</th>\n",
       "      <th>fastest_lap</th>\n",
       "      <th>slowest_lap</th>\n",
       "      <th>average_lap</th>\n",
       "    </tr>\n",
       "  </thead>\n",
       "  <tbody>\n",
       "    <tr>\n",
       "      <th>0</th>\n",
       "      <td>1</td>\n",
       "      <td>hamilton</td>\n",
       "      <td>18</td>\n",
       "      <td>10.0</td>\n",
       "      <td>1</td>\n",
       "      <td>1</td>\n",
       "      <td>1</td>\n",
       "      <td>Australian Grand Prix</td>\n",
       "      <td>87.452</td>\n",
       "      <td>166.432</td>\n",
       "      <td>98.114069</td>\n",
       "    </tr>\n",
       "    <tr>\n",
       "      <th>1</th>\n",
       "      <td>2</td>\n",
       "      <td>heidfeld</td>\n",
       "      <td>18</td>\n",
       "      <td>8.0</td>\n",
       "      <td>2</td>\n",
       "      <td>0</td>\n",
       "      <td>1</td>\n",
       "      <td>Australian Grand Prix</td>\n",
       "      <td>87.739</td>\n",
       "      <td>166.678</td>\n",
       "      <td>98.208517</td>\n",
       "    </tr>\n",
       "    <tr>\n",
       "      <th>2</th>\n",
       "      <td>3</td>\n",
       "      <td>rosberg</td>\n",
       "      <td>18</td>\n",
       "      <td>6.0</td>\n",
       "      <td>3</td>\n",
       "      <td>0</td>\n",
       "      <td>1</td>\n",
       "      <td>Australian Grand Prix</td>\n",
       "      <td>88.090</td>\n",
       "      <td>156.683</td>\n",
       "      <td>98.254810</td>\n",
       "    </tr>\n",
       "    <tr>\n",
       "      <th>3</th>\n",
       "      <td>4</td>\n",
       "      <td>alonso</td>\n",
       "      <td>18</td>\n",
       "      <td>5.0</td>\n",
       "      <td>4</td>\n",
       "      <td>0</td>\n",
       "      <td>1</td>\n",
       "      <td>Australian Grand Prix</td>\n",
       "      <td>88.603</td>\n",
       "      <td>170.306</td>\n",
       "      <td>98.410293</td>\n",
       "    </tr>\n",
       "    <tr>\n",
       "      <th>4</th>\n",
       "      <td>5</td>\n",
       "      <td>kovalainen</td>\n",
       "      <td>18</td>\n",
       "      <td>4.0</td>\n",
       "      <td>5</td>\n",
       "      <td>0</td>\n",
       "      <td>1</td>\n",
       "      <td>Australian Grand Prix</td>\n",
       "      <td>87.418</td>\n",
       "      <td>175.160</td>\n",
       "      <td>98.424655</td>\n",
       "    </tr>\n",
       "  </tbody>\n",
       "</table>\n",
       "</div>"
      ],
      "text/plain": [
       "   driverId   driverRef  raceId  season_points  season_position  season_wins  \\\n",
       "0         1    hamilton      18           10.0                1            1   \n",
       "1         2    heidfeld      18            8.0                2            0   \n",
       "2         3     rosberg      18            6.0                3            0   \n",
       "3         4      alonso      18            5.0                4            0   \n",
       "4         5  kovalainen      18            4.0                5            0   \n",
       "\n",
       "   circuitId              race_name  fastest_lap  slowest_lap  average_lap  \n",
       "0          1  Australian Grand Prix       87.452      166.432    98.114069  \n",
       "1          1  Australian Grand Prix       87.739      166.678    98.208517  \n",
       "2          1  Australian Grand Prix       88.090      156.683    98.254810  \n",
       "3          1  Australian Grand Prix       88.603      170.306    98.410293  \n",
       "4          1  Australian Grand Prix       87.418      175.160    98.424655  "
      ]
     },
     "execution_count": 17,
     "metadata": {},
     "output_type": "execute_result"
    }
   ],
   "source": [
    "dr = pd.merge(dr, lap_vals, on = ['driverId', 'raceId'])\n",
    "dr.head()"
   ]
  },
  {
   "attachments": {},
   "cell_type": "markdown",
   "metadata": {},
   "source": [
    "Merging the dr dataframe with the qualifying dataframe in order to add each driver's qualifying data for each race."
   ]
  },
  {
   "cell_type": "code",
   "execution_count": 18,
   "metadata": {},
   "outputs": [
    {
     "data": {
      "text/html": [
       "<div>\n",
       "<style scoped>\n",
       "    .dataframe tbody tr th:only-of-type {\n",
       "        vertical-align: middle;\n",
       "    }\n",
       "\n",
       "    .dataframe tbody tr th {\n",
       "        vertical-align: top;\n",
       "    }\n",
       "\n",
       "    .dataframe thead th {\n",
       "        text-align: right;\n",
       "    }\n",
       "</style>\n",
       "<table border=\"1\" class=\"dataframe\">\n",
       "  <thead>\n",
       "    <tr style=\"text-align: right;\">\n",
       "      <th></th>\n",
       "      <th>driverId</th>\n",
       "      <th>driverRef</th>\n",
       "      <th>raceId</th>\n",
       "      <th>season_points</th>\n",
       "      <th>season_position</th>\n",
       "      <th>season_wins</th>\n",
       "      <th>circuitId</th>\n",
       "      <th>race_name</th>\n",
       "      <th>fastest_lap</th>\n",
       "      <th>slowest_lap</th>\n",
       "      <th>average_lap</th>\n",
       "      <th>qualifyId</th>\n",
       "      <th>constructorId</th>\n",
       "      <th>number</th>\n",
       "      <th>position</th>\n",
       "      <th>q1</th>\n",
       "      <th>q2</th>\n",
       "      <th>q3</th>\n",
       "    </tr>\n",
       "  </thead>\n",
       "  <tbody>\n",
       "    <tr>\n",
       "      <th>0</th>\n",
       "      <td>1</td>\n",
       "      <td>hamilton</td>\n",
       "      <td>18</td>\n",
       "      <td>10.0</td>\n",
       "      <td>1</td>\n",
       "      <td>1</td>\n",
       "      <td>1</td>\n",
       "      <td>Australian Grand Prix</td>\n",
       "      <td>87.452</td>\n",
       "      <td>166.432</td>\n",
       "      <td>98.114069</td>\n",
       "      <td>1</td>\n",
       "      <td>1</td>\n",
       "      <td>22</td>\n",
       "      <td>1</td>\n",
       "      <td>86.572</td>\n",
       "      <td>85.187</td>\n",
       "      <td>86.714</td>\n",
       "    </tr>\n",
       "    <tr>\n",
       "      <th>1</th>\n",
       "      <td>2</td>\n",
       "      <td>heidfeld</td>\n",
       "      <td>18</td>\n",
       "      <td>8.0</td>\n",
       "      <td>2</td>\n",
       "      <td>0</td>\n",
       "      <td>1</td>\n",
       "      <td>Australian Grand Prix</td>\n",
       "      <td>87.739</td>\n",
       "      <td>166.678</td>\n",
       "      <td>98.208517</td>\n",
       "      <td>5</td>\n",
       "      <td>2</td>\n",
       "      <td>3</td>\n",
       "      <td>5</td>\n",
       "      <td>85.960</td>\n",
       "      <td>85.518</td>\n",
       "      <td>87.236</td>\n",
       "    </tr>\n",
       "    <tr>\n",
       "      <th>2</th>\n",
       "      <td>3</td>\n",
       "      <td>rosberg</td>\n",
       "      <td>18</td>\n",
       "      <td>6.0</td>\n",
       "      <td>3</td>\n",
       "      <td>0</td>\n",
       "      <td>1</td>\n",
       "      <td>Australian Grand Prix</td>\n",
       "      <td>88.090</td>\n",
       "      <td>156.683</td>\n",
       "      <td>98.254810</td>\n",
       "      <td>7</td>\n",
       "      <td>3</td>\n",
       "      <td>7</td>\n",
       "      <td>7</td>\n",
       "      <td>86.295</td>\n",
       "      <td>86.059</td>\n",
       "      <td>88.687</td>\n",
       "    </tr>\n",
       "    <tr>\n",
       "      <th>3</th>\n",
       "      <td>4</td>\n",
       "      <td>alonso</td>\n",
       "      <td>18</td>\n",
       "      <td>5.0</td>\n",
       "      <td>4</td>\n",
       "      <td>0</td>\n",
       "      <td>1</td>\n",
       "      <td>Australian Grand Prix</td>\n",
       "      <td>88.603</td>\n",
       "      <td>170.306</td>\n",
       "      <td>98.410293</td>\n",
       "      <td>12</td>\n",
       "      <td>4</td>\n",
       "      <td>5</td>\n",
       "      <td>12</td>\n",
       "      <td>86.907</td>\n",
       "      <td>86.188</td>\n",
       "      <td>NaN</td>\n",
       "    </tr>\n",
       "    <tr>\n",
       "      <th>4</th>\n",
       "      <td>5</td>\n",
       "      <td>kovalainen</td>\n",
       "      <td>18</td>\n",
       "      <td>4.0</td>\n",
       "      <td>5</td>\n",
       "      <td>0</td>\n",
       "      <td>1</td>\n",
       "      <td>Australian Grand Prix</td>\n",
       "      <td>87.418</td>\n",
       "      <td>175.160</td>\n",
       "      <td>98.424655</td>\n",
       "      <td>3</td>\n",
       "      <td>1</td>\n",
       "      <td>23</td>\n",
       "      <td>3</td>\n",
       "      <td>85.664</td>\n",
       "      <td>85.452</td>\n",
       "      <td>87.079</td>\n",
       "    </tr>\n",
       "  </tbody>\n",
       "</table>\n",
       "</div>"
      ],
      "text/plain": [
       "   driverId   driverRef  raceId  season_points  season_position  season_wins  \\\n",
       "0         1    hamilton      18           10.0                1            1   \n",
       "1         2    heidfeld      18            8.0                2            0   \n",
       "2         3     rosberg      18            6.0                3            0   \n",
       "3         4      alonso      18            5.0                4            0   \n",
       "4         5  kovalainen      18            4.0                5            0   \n",
       "\n",
       "   circuitId              race_name  fastest_lap  slowest_lap  average_lap  \\\n",
       "0          1  Australian Grand Prix       87.452      166.432    98.114069   \n",
       "1          1  Australian Grand Prix       87.739      166.678    98.208517   \n",
       "2          1  Australian Grand Prix       88.090      156.683    98.254810   \n",
       "3          1  Australian Grand Prix       88.603      170.306    98.410293   \n",
       "4          1  Australian Grand Prix       87.418      175.160    98.424655   \n",
       "\n",
       "   qualifyId  constructorId  number  position      q1      q2      q3  \n",
       "0          1              1      22         1  86.572  85.187  86.714  \n",
       "1          5              2       3         5  85.960  85.518  87.236  \n",
       "2          7              3       7         7  86.295  86.059  88.687  \n",
       "3         12              4       5        12  86.907  86.188     NaN  \n",
       "4          3              1      23         3  85.664  85.452  87.079  "
      ]
     },
     "execution_count": 18,
     "metadata": {},
     "output_type": "execute_result"
    }
   ],
   "source": [
    "dr = pd.merge(dr, df_dict['qualifying'], on = ['raceId', 'driverId'])\n",
    "dr.head()"
   ]
  },
  {
   "attachments": {},
   "cell_type": "markdown",
   "metadata": {},
   "source": [
    "Editing the new dataframe by dropping unnecessary columns and renaming certain columns to make them more comprehensible. "
   ]
  },
  {
   "cell_type": "code",
   "execution_count": 19,
   "metadata": {},
   "outputs": [
    {
     "data": {
      "text/plain": [
       "Index(['driverId', 'driverRef', 'raceId', 'season_points', 'season_position',\n",
       "       'season_wins', 'circuitId', 'race_name', 'fastest_lap', 'slowest_lap',\n",
       "       'average_lap', 'constructorId', 'qual_position', 'q1_time', 'q2_time',\n",
       "       'q3_time'],\n",
       "      dtype='object')"
      ]
     },
     "execution_count": 19,
     "metadata": {},
     "output_type": "execute_result"
    }
   ],
   "source": [
    "dr.drop(columns = ['qualifyId', 'number'], inplace = True)\n",
    "dr.rename(columns = {'position': 'qual_position', 'q1': 'q1_time', 'q2': 'q2_time', 'q3': 'q3_time'}, inplace = True)\n",
    "dr.columns"
   ]
  },
  {
   "attachments": {},
   "cell_type": "markdown",
   "metadata": {},
   "source": [
    "Merging the dr dataframe with the constructors dataframe in order to get the \"team\" that each drvier is associated with. From here, I once again dropped unnecessary columns and renamed a column to make it more clear. "
   ]
  },
  {
   "cell_type": "code",
   "execution_count": 20,
   "metadata": {},
   "outputs": [
    {
     "data": {
      "text/html": [
       "<div>\n",
       "<style scoped>\n",
       "    .dataframe tbody tr th:only-of-type {\n",
       "        vertical-align: middle;\n",
       "    }\n",
       "\n",
       "    .dataframe tbody tr th {\n",
       "        vertical-align: top;\n",
       "    }\n",
       "\n",
       "    .dataframe thead th {\n",
       "        text-align: right;\n",
       "    }\n",
       "</style>\n",
       "<table border=\"1\" class=\"dataframe\">\n",
       "  <thead>\n",
       "    <tr style=\"text-align: right;\">\n",
       "      <th></th>\n",
       "      <th>driverId</th>\n",
       "      <th>driverRef</th>\n",
       "      <th>raceId</th>\n",
       "      <th>season_points</th>\n",
       "      <th>season_position</th>\n",
       "      <th>season_wins</th>\n",
       "      <th>circuitId</th>\n",
       "      <th>race_name</th>\n",
       "      <th>fastest_lap</th>\n",
       "      <th>slowest_lap</th>\n",
       "      <th>average_lap</th>\n",
       "      <th>constructorId</th>\n",
       "      <th>qual_position</th>\n",
       "      <th>q1_time</th>\n",
       "      <th>q2_time</th>\n",
       "      <th>q3_time</th>\n",
       "      <th>constructor_name</th>\n",
       "    </tr>\n",
       "  </thead>\n",
       "  <tbody>\n",
       "    <tr>\n",
       "      <th>0</th>\n",
       "      <td>1</td>\n",
       "      <td>hamilton</td>\n",
       "      <td>18</td>\n",
       "      <td>10.0</td>\n",
       "      <td>1</td>\n",
       "      <td>1</td>\n",
       "      <td>1</td>\n",
       "      <td>Australian Grand Prix</td>\n",
       "      <td>87.452</td>\n",
       "      <td>166.432</td>\n",
       "      <td>98.114069</td>\n",
       "      <td>1</td>\n",
       "      <td>1</td>\n",
       "      <td>86.572</td>\n",
       "      <td>85.187</td>\n",
       "      <td>86.714</td>\n",
       "      <td>McLaren</td>\n",
       "    </tr>\n",
       "    <tr>\n",
       "      <th>1</th>\n",
       "      <td>5</td>\n",
       "      <td>kovalainen</td>\n",
       "      <td>18</td>\n",
       "      <td>4.0</td>\n",
       "      <td>5</td>\n",
       "      <td>0</td>\n",
       "      <td>1</td>\n",
       "      <td>Australian Grand Prix</td>\n",
       "      <td>87.418</td>\n",
       "      <td>175.160</td>\n",
       "      <td>98.424655</td>\n",
       "      <td>1</td>\n",
       "      <td>3</td>\n",
       "      <td>85.664</td>\n",
       "      <td>85.452</td>\n",
       "      <td>87.079</td>\n",
       "      <td>McLaren</td>\n",
       "    </tr>\n",
       "    <tr>\n",
       "      <th>2</th>\n",
       "      <td>1</td>\n",
       "      <td>hamilton</td>\n",
       "      <td>19</td>\n",
       "      <td>14.0</td>\n",
       "      <td>1</td>\n",
       "      <td>1</td>\n",
       "      <td>2</td>\n",
       "      <td>Malaysian Grand Prix</td>\n",
       "      <td>95.462</td>\n",
       "      <td>135.491</td>\n",
       "      <td>98.662554</td>\n",
       "      <td>1</td>\n",
       "      <td>4</td>\n",
       "      <td>95.392</td>\n",
       "      <td>94.627</td>\n",
       "      <td>96.709</td>\n",
       "      <td>McLaren</td>\n",
       "    </tr>\n",
       "    <tr>\n",
       "      <th>3</th>\n",
       "      <td>5</td>\n",
       "      <td>kovalainen</td>\n",
       "      <td>19</td>\n",
       "      <td>10.0</td>\n",
       "      <td>4</td>\n",
       "      <td>0</td>\n",
       "      <td>2</td>\n",
       "      <td>Malaysian Grand Prix</td>\n",
       "      <td>95.922</td>\n",
       "      <td>125.997</td>\n",
       "      <td>98.517946</td>\n",
       "      <td>1</td>\n",
       "      <td>3</td>\n",
       "      <td>95.227</td>\n",
       "      <td>94.759</td>\n",
       "      <td>96.613</td>\n",
       "      <td>McLaren</td>\n",
       "    </tr>\n",
       "    <tr>\n",
       "      <th>4</th>\n",
       "      <td>1</td>\n",
       "      <td>hamilton</td>\n",
       "      <td>20</td>\n",
       "      <td>14.0</td>\n",
       "      <td>3</td>\n",
       "      <td>1</td>\n",
       "      <td>3</td>\n",
       "      <td>Bahrain Grand Prix</td>\n",
       "      <td>95.520</td>\n",
       "      <td>129.676</td>\n",
       "      <td>97.906857</td>\n",
       "      <td>1</td>\n",
       "      <td>3</td>\n",
       "      <td>92.750</td>\n",
       "      <td>91.922</td>\n",
       "      <td>93.292</td>\n",
       "      <td>McLaren</td>\n",
       "    </tr>\n",
       "  </tbody>\n",
       "</table>\n",
       "</div>"
      ],
      "text/plain": [
       "   driverId   driverRef  raceId  season_points  season_position  season_wins  \\\n",
       "0         1    hamilton      18           10.0                1            1   \n",
       "1         5  kovalainen      18            4.0                5            0   \n",
       "2         1    hamilton      19           14.0                1            1   \n",
       "3         5  kovalainen      19           10.0                4            0   \n",
       "4         1    hamilton      20           14.0                3            1   \n",
       "\n",
       "   circuitId              race_name  fastest_lap  slowest_lap  average_lap  \\\n",
       "0          1  Australian Grand Prix       87.452      166.432    98.114069   \n",
       "1          1  Australian Grand Prix       87.418      175.160    98.424655   \n",
       "2          2   Malaysian Grand Prix       95.462      135.491    98.662554   \n",
       "3          2   Malaysian Grand Prix       95.922      125.997    98.517946   \n",
       "4          3     Bahrain Grand Prix       95.520      129.676    97.906857   \n",
       "\n",
       "   constructorId  qual_position  q1_time  q2_time  q3_time constructor_name  \n",
       "0              1              1   86.572   85.187   86.714          McLaren  \n",
       "1              1              3   85.664   85.452   87.079          McLaren  \n",
       "2              1              4   95.392   94.627   96.709          McLaren  \n",
       "3              1              3   95.227   94.759   96.613          McLaren  \n",
       "4              1              3   92.750   91.922   93.292          McLaren  "
      ]
     },
     "execution_count": 20,
     "metadata": {},
     "output_type": "execute_result"
    }
   ],
   "source": [
    "dr = pd.merge(dr, df_dict['constructors'], on = 'constructorId')\n",
    "dr.drop(columns = ['url', 'nationality', 'constructorRef'], inplace = True)\n",
    "dr.rename(columns = {'name':'constructor_name'}, inplace = True)\n",
    "dr.head()"
   ]
  },
  {
   "attachments": {},
   "cell_type": "markdown",
   "metadata": {},
   "source": [
    "Merging the dr dataframe with a ps dataframe, which was created earlier and contains some pit stop data, such as the number of stops and the amount of time spent in the pit stop per each race for a driver. "
   ]
  },
  {
   "cell_type": "code",
   "execution_count": 21,
   "metadata": {},
   "outputs": [
    {
     "data": {
      "text/html": [
       "<div>\n",
       "<style scoped>\n",
       "    .dataframe tbody tr th:only-of-type {\n",
       "        vertical-align: middle;\n",
       "    }\n",
       "\n",
       "    .dataframe tbody tr th {\n",
       "        vertical-align: top;\n",
       "    }\n",
       "\n",
       "    .dataframe thead th {\n",
       "        text-align: right;\n",
       "    }\n",
       "</style>\n",
       "<table border=\"1\" class=\"dataframe\">\n",
       "  <thead>\n",
       "    <tr style=\"text-align: right;\">\n",
       "      <th></th>\n",
       "      <th>driverId</th>\n",
       "      <th>driverRef</th>\n",
       "      <th>raceId</th>\n",
       "      <th>season_points</th>\n",
       "      <th>season_position</th>\n",
       "      <th>season_wins</th>\n",
       "      <th>circuitId</th>\n",
       "      <th>race_name</th>\n",
       "      <th>fastest_lap</th>\n",
       "      <th>slowest_lap</th>\n",
       "      <th>average_lap</th>\n",
       "      <th>constructorId</th>\n",
       "      <th>qual_position</th>\n",
       "      <th>q1_time</th>\n",
       "      <th>q2_time</th>\n",
       "      <th>q3_time</th>\n",
       "      <th>constructor_name</th>\n",
       "      <th>#_of_pit_stops</th>\n",
       "      <th>total_time_in_pit</th>\n",
       "    </tr>\n",
       "  </thead>\n",
       "  <tbody>\n",
       "    <tr>\n",
       "      <th>0</th>\n",
       "      <td>4</td>\n",
       "      <td>alonso</td>\n",
       "      <td>969</td>\n",
       "      <td>0.0</td>\n",
       "      <td>14</td>\n",
       "      <td>0</td>\n",
       "      <td>1</td>\n",
       "      <td>Australian Grand Prix</td>\n",
       "      <td>90.077</td>\n",
       "      <td>109.469</td>\n",
       "      <td>91.728380</td>\n",
       "      <td>1</td>\n",
       "      <td>13</td>\n",
       "      <td>85.872</td>\n",
       "      <td>85.425</td>\n",
       "      <td>NaN</td>\n",
       "      <td>McLaren</td>\n",
       "      <td>1</td>\n",
       "      <td>22.484</td>\n",
       "    </tr>\n",
       "    <tr>\n",
       "      <th>1</th>\n",
       "      <td>838</td>\n",
       "      <td>vandoorne</td>\n",
       "      <td>969</td>\n",
       "      <td>0.0</td>\n",
       "      <td>13</td>\n",
       "      <td>0</td>\n",
       "      <td>1</td>\n",
       "      <td>Australian Grand Prix</td>\n",
       "      <td>89.440</td>\n",
       "      <td>128.894</td>\n",
       "      <td>92.705582</td>\n",
       "      <td>1</td>\n",
       "      <td>18</td>\n",
       "      <td>86.858</td>\n",
       "      <td>NaN</td>\n",
       "      <td>NaN</td>\n",
       "      <td>McLaren</td>\n",
       "      <td>1</td>\n",
       "      <td>39.562</td>\n",
       "    </tr>\n",
       "    <tr>\n",
       "      <th>2</th>\n",
       "      <td>1</td>\n",
       "      <td>hamilton</td>\n",
       "      <td>842</td>\n",
       "      <td>22.0</td>\n",
       "      <td>3</td>\n",
       "      <td>0</td>\n",
       "      <td>2</td>\n",
       "      <td>Malaysian Grand Prix</td>\n",
       "      <td>101.512</td>\n",
       "      <td>124.636</td>\n",
       "      <td>105.531946</td>\n",
       "      <td>1</td>\n",
       "      <td>2</td>\n",
       "      <td>96.861</td>\n",
       "      <td>95.852</td>\n",
       "      <td>94.974</td>\n",
       "      <td>McLaren</td>\n",
       "      <td>4</td>\n",
       "      <td>93.011</td>\n",
       "    </tr>\n",
       "    <tr>\n",
       "      <th>3</th>\n",
       "      <td>18</td>\n",
       "      <td>button</td>\n",
       "      <td>842</td>\n",
       "      <td>26.0</td>\n",
       "      <td>2</td>\n",
       "      <td>0</td>\n",
       "      <td>2</td>\n",
       "      <td>Malaysian Grand Prix</td>\n",
       "      <td>101.264</td>\n",
       "      <td>123.347</td>\n",
       "      <td>104.698089</td>\n",
       "      <td>1</td>\n",
       "      <td>4</td>\n",
       "      <td>97.033</td>\n",
       "      <td>95.569</td>\n",
       "      <td>95.200</td>\n",
       "      <td>McLaren</td>\n",
       "      <td>3</td>\n",
       "      <td>67.354</td>\n",
       "    </tr>\n",
       "    <tr>\n",
       "      <th>4</th>\n",
       "      <td>1</td>\n",
       "      <td>hamilton</td>\n",
       "      <td>841</td>\n",
       "      <td>18.0</td>\n",
       "      <td>2</td>\n",
       "      <td>0</td>\n",
       "      <td>1</td>\n",
       "      <td>Australian Grand Prix</td>\n",
       "      <td>90.314</td>\n",
       "      <td>113.298</td>\n",
       "      <td>92.975103</td>\n",
       "      <td>1</td>\n",
       "      <td>2</td>\n",
       "      <td>85.384</td>\n",
       "      <td>84.595</td>\n",
       "      <td>84.307</td>\n",
       "      <td>McLaren</td>\n",
       "      <td>2</td>\n",
       "      <td>46.426</td>\n",
       "    </tr>\n",
       "  </tbody>\n",
       "</table>\n",
       "</div>"
      ],
      "text/plain": [
       "   driverId  driverRef  raceId  season_points  season_position  season_wins  \\\n",
       "0         4     alonso     969            0.0               14            0   \n",
       "1       838  vandoorne     969            0.0               13            0   \n",
       "2         1   hamilton     842           22.0                3            0   \n",
       "3        18     button     842           26.0                2            0   \n",
       "4         1   hamilton     841           18.0                2            0   \n",
       "\n",
       "   circuitId              race_name  fastest_lap  slowest_lap  average_lap  \\\n",
       "0          1  Australian Grand Prix       90.077      109.469    91.728380   \n",
       "1          1  Australian Grand Prix       89.440      128.894    92.705582   \n",
       "2          2   Malaysian Grand Prix      101.512      124.636   105.531946   \n",
       "3          2   Malaysian Grand Prix      101.264      123.347   104.698089   \n",
       "4          1  Australian Grand Prix       90.314      113.298    92.975103   \n",
       "\n",
       "   constructorId  qual_position  q1_time  q2_time  q3_time constructor_name  \\\n",
       "0              1             13   85.872   85.425      NaN          McLaren   \n",
       "1              1             18   86.858      NaN      NaN          McLaren   \n",
       "2              1              2   96.861   95.852   94.974          McLaren   \n",
       "3              1              4   97.033   95.569   95.200          McLaren   \n",
       "4              1              2   85.384   84.595   84.307          McLaren   \n",
       "\n",
       "   #_of_pit_stops  total_time_in_pit  \n",
       "0               1             22.484  \n",
       "1               1             39.562  \n",
       "2               4             93.011  \n",
       "3               3             67.354  \n",
       "4               2             46.426  "
      ]
     },
     "execution_count": 21,
     "metadata": {},
     "output_type": "execute_result"
    }
   ],
   "source": [
    "dr = pd.merge(dr, ps, on = ['driverId', 'raceId'])\n",
    "dr.head()"
   ]
  },
  {
   "attachments": {},
   "cell_type": "markdown",
   "metadata": {},
   "source": [
    "Merging the dr dataframe and the results dataframe to get necessary data about the final results of the race for each driver. Also dropped unnecessary columns once again. "
   ]
  },
  {
   "cell_type": "code",
   "execution_count": 22,
   "metadata": {},
   "outputs": [
    {
     "data": {
      "text/plain": [
       "Index(['driverId', 'driverRef', 'raceId', 'season_points', 'season_position',\n",
       "       'season_wins', 'circuitId', 'race_name', 'fastest_lap', 'slowest_lap',\n",
       "       'average_lap', 'constructorId_x', 'qual_position', 'q1_time', 'q2_time',\n",
       "       'q3_time', 'constructor_name', '#_of_pit_stops', 'total_time_in_pit',\n",
       "       'resultId', 'final_race_position', 'whole_race_time(sec)',\n",
       "       'fastest_lap#', 'fastest_lap_rank', 'fastest_lap_speed(km/h)',\n",
       "       'statusId'],\n",
       "      dtype='object')"
      ]
     },
     "execution_count": 22,
     "metadata": {},
     "output_type": "execute_result"
    }
   ],
   "source": [
    "dr = pd.merge(dr, df_dict['results'], on = ['driverId', 'raceId'])\n",
    "dr.drop(columns = ['constructorId_y', 'number', 'grid', 'positionText', 'position', 'points',\n",
    "                   'laps', 'time', 'fastestLapTime'], inplace = True)\n",
    "dr.columns"
   ]
  },
  {
   "attachments": {},
   "cell_type": "markdown",
   "metadata": {},
   "source": [
    "Renaming a column and converting an object column into a numeric column"
   ]
  },
  {
   "cell_type": "code",
   "execution_count": 23,
   "metadata": {},
   "outputs": [],
   "source": [
    "dr.rename(columns = {'constructorId_x': 'constructorId'}, inplace = True)\n",
    "dr['fastest_lap#'] = pd.to_numeric(dr['fastest_lap#'])"
   ]
  },
  {
   "attachments": {},
   "cell_type": "markdown",
   "metadata": {},
   "source": [
    "Since I am going to use a decision tree, I need to get rid of all object columns: \n",
    "* Drivers will be identified based on their ID\n",
    "* Race Name will be identified based on the circuit_id\n",
    "* Constructors will be identified based on their ID\n",
    "    "
   ]
  },
  {
   "cell_type": "code",
   "execution_count": 24,
   "metadata": {},
   "outputs": [],
   "source": [
    "dr.drop(columns = ['resultId', 'driverRef', 'race_name', 'constructor_name'], inplace = True)"
   ]
  },
  {
   "attachments": {},
   "cell_type": "markdown",
   "metadata": {},
   "source": [
    "The sci-kit learn decision tree model I want to use does not support NaN values, so I will have to impute values for the following columns:\n",
    "* q1_time\n",
    "* q2_time\n",
    "* q3_time\n",
    "* whole_race_time(sec)\n",
    "* fastest_lap#\n",
    "* fastest_lap_speed(km/h)\n"
   ]
  },
  {
   "attachments": {},
   "cell_type": "markdown",
   "metadata": {},
   "source": [
    "To impute q1_time, I will group the race by race_id and assign each driver the maximum q1_time in that session. I'm assuming that if drivers do not have a q1_time, they did not put up a valid lap for q1, so they deserve to have the worst time. We will also penalize them by adding 1 second to the maximum time.\n",
    "\n",
    "This will also go for q2 and q3. For these, there are more NaN values because drivers must be in the top part of their previous section to qualify for q2 and q3. As a result, we will also fill in their times with the maximum time for each of these sessions plus a 1 second penalty for either not making it, or not putting up a lap."
   ]
  },
  {
   "cell_type": "code",
   "execution_count": 25,
   "metadata": {},
   "outputs": [],
   "source": [
    "def impute_max(temp, actual, col):\n",
    "    for race_id, times in temp:\n",
    "        max_time = times[col].max()\n",
    "        actual[col] = actual[col].fillna(max_time + 1)\n",
    "\n",
    "race_id_group = dr.groupby('raceId')\n",
    "\n",
    "impute_max(race_id_group, dr, 'q1_time')\n",
    "impute_max(race_id_group, dr, 'q2_time')\n",
    "impute_max(race_id_group, dr, 'q3_time')\n",
    "\n"
   ]
  },
  {
   "attachments": {},
   "cell_type": "markdown",
   "metadata": {},
   "source": [
    "To account for the missing values in the whole_race_time(sec) column, I will drop the column due to the fact there are too many missing values. In the case of this columns, almost 50% of the values are missing, which could be due to a multitude of drivers being unable to finish races. Imputing this data would have a negative effect on this variable since I will be generating almost half of the data, which would not give good results"
   ]
  },
  {
   "cell_type": "code",
   "execution_count": 26,
   "metadata": {},
   "outputs": [],
   "source": [
    "dr.drop(columns = 'whole_race_time(sec)', inplace = True)"
   ]
  },
  {
   "attachments": {},
   "cell_type": "markdown",
   "metadata": {},
   "source": [
    "fastest_lap# will actually be dropped because it is not a necessary variable."
   ]
  },
  {
   "cell_type": "code",
   "execution_count": 27,
   "metadata": {},
   "outputs": [],
   "source": [
    "dr.drop(columns = 'fastest_lap#', inplace = True)"
   ]
  },
  {
   "attachments": {},
   "cell_type": "markdown",
   "metadata": {},
   "source": [
    "fastest_lap_speed will be imputed in a similar way as q1, q2, and q3 times. However, rather than the maximum value for lap speed, we will just take average of the fastest lap speeds for a given race."
   ]
  },
  {
   "cell_type": "code",
   "execution_count": 28,
   "metadata": {},
   "outputs": [],
   "source": [
    "lap_speed = dr.groupby('raceId')\n",
    "\n",
    "for race_id, speed in lap_speed:\n",
    "    avg_speed = speed['fastest_lap_speed(km/h)'].mean()\n",
    "    dr['fastest_lap_speed(km/h)'] = dr['fastest_lap_speed(km/h)'].fillna(avg_speed)"
   ]
  },
  {
   "attachments": {},
   "cell_type": "markdown",
   "metadata": {},
   "source": [
    "Dropping the raceId column since it is no longer needed"
   ]
  },
  {
   "cell_type": "code",
   "execution_count": 29,
   "metadata": {},
   "outputs": [],
   "source": [
    "dr.drop(columns = 'raceId', inplace = True)"
   ]
  },
  {
   "attachments": {},
   "cell_type": "markdown",
   "metadata": {},
   "source": [
    "Creating a podium column to classify whether or not a driver gets a podium in the race (places 1st, 2nd, or 3rd)"
   ]
  },
  {
   "cell_type": "code",
   "execution_count": 30,
   "metadata": {},
   "outputs": [],
   "source": [
    "def podium(position):\n",
    "    if position in [1, 2, 3]:\n",
    "        return 1\n",
    "    else:\n",
    "        return 0\n",
    "\n",
    "dr['podium'] = dr['final_race_position'].apply(podium)"
   ]
  },
  {
   "attachments": {},
   "cell_type": "markdown",
   "metadata": {},
   "source": [
    "A final check on the columns of the table"
   ]
  },
  {
   "cell_type": "code",
   "execution_count": 31,
   "metadata": {},
   "outputs": [
    {
     "data": {
      "text/plain": [
       "Index(['driverId', 'season_points', 'season_position', 'season_wins',\n",
       "       'circuitId', 'fastest_lap', 'slowest_lap', 'average_lap',\n",
       "       'constructorId', 'qual_position', 'q1_time', 'q2_time', 'q3_time',\n",
       "       '#_of_pit_stops', 'total_time_in_pit', 'final_race_position',\n",
       "       'fastest_lap_rank', 'fastest_lap_speed(km/h)', 'statusId', 'podium'],\n",
       "      dtype='object')"
      ]
     },
     "execution_count": 31,
     "metadata": {},
     "output_type": "execute_result"
    }
   ],
   "source": [
    "dr.columns"
   ]
  },
  {
   "attachments": {},
   "cell_type": "markdown",
   "metadata": {},
   "source": [
    "A plot of the correlations between the variables in order to get a better understanding of the data. To get there corelations, I will have to make a new dataframe that does not contain the categorical variables. "
   ]
  },
  {
   "cell_type": "code",
   "execution_count": 41,
   "metadata": {},
   "outputs": [
    {
     "data": {
      "text/plain": [
       "<AxesSubplot:title={'center':'Correlations between continuous variables'}>"
      ]
     },
     "execution_count": 41,
     "metadata": {},
     "output_type": "execute_result"
    },
    {
     "data": {
      "image/png": "[encoded data removed]",
      "text/plain": [
       "<Figure size 864x720 with 2 Axes>"
      ]
     },
     "metadata": {
      "needs_background": "light"
     },
     "output_type": "display_data"
    }
   ],
   "source": [
    "cont_df = dr.drop(columns = ['driverId', 'circuitId', 'constructorId', 'statusId', 'podium'])\n",
    "\n",
    "corr_df = cont_df.corr()\n",
    "\n",
    "plt.figure(figsize= (12, 10))\n",
    "plt.title(\"Correlations between continuous variables\")\n",
    "sns.heatmap(corr_df, annot = True)"
   ]
  },
  {
   "attachments": {},
   "cell_type": "markdown",
   "metadata": {},
   "source": [
    "# Step 3: Implementing a Machine Learning Model"
   ]
  },
  {
   "attachments": {},
   "cell_type": "markdown",
   "metadata": {},
   "source": [
    "For this part of the project, I will be using a decision tree in order to identify important features of the most successful drivers. The idea of \"successful drivers\" will be based on whether or not they are able to earn a podium for the race. I am choosing to use a classifier model rather than a regressor model because the table consists of categorical variables (such as ID fields and podiums is also a binary variable) and continuous variables. "
   ]
  },
  {
   "attachments": {},
   "cell_type": "markdown",
   "metadata": {},
   "source": [
    "This sets X to all columns besides the final race position and podium because we are trying to identify the features in X that lead to being successful. We won't use final race position in the model because it was directly used to compute the podium field. "
   ]
  },
  {
   "cell_type": "code",
   "execution_count": 33,
   "metadata": {},
   "outputs": [],
   "source": [
    "X = dr.drop(columns = ['final_race_position', 'podium'])"
   ]
  },
  {
   "attachments": {},
   "cell_type": "markdown",
   "metadata": {},
   "source": [
    "This sets y equal to podium because that is the metric that we are using to determine how \"successful\" drivers are."
   ]
  },
  {
   "cell_type": "code",
   "execution_count": 34,
   "metadata": {},
   "outputs": [],
   "source": [
    "y = dr['podium']\n"
   ]
  },
  {
   "attachments": {},
   "cell_type": "markdown",
   "metadata": {},
   "source": [
    "Splitting the data into test and training data sets"
   ]
  },
  {
   "cell_type": "code",
   "execution_count": 35,
   "metadata": {},
   "outputs": [],
   "source": [
    "X_train, X_test, y_train, y_test = train_test_split(X, y, test_size =.3, random_state = 42)\n"
   ]
  },
  {
   "attachments": {},
   "cell_type": "markdown",
   "metadata": {},
   "source": [
    "Make the decision tree model"
   ]
  },
  {
   "cell_type": "code",
   "execution_count": 36,
   "metadata": {},
   "outputs": [],
   "source": [
    "tree = DecisionTreeClassifier()\n",
    "tree = tree.fit(X_train, y_train)"
   ]
  },
  {
   "attachments": {},
   "cell_type": "markdown",
   "metadata": {},
   "source": [
    "Score the decision tree model"
   ]
  },
  {
   "cell_type": "code",
   "execution_count": 37,
   "metadata": {},
   "outputs": [
    {
     "data": {
      "text/plain": [
       "0.8986629134412386"
      ]
     },
     "execution_count": 37,
     "metadata": {},
     "output_type": "execute_result"
    }
   ],
   "source": [
    "accuracy = tree.score(X_test, y_test)\n",
    "accuracy"
   ]
  },
  {
   "attachments": {},
   "cell_type": "markdown",
   "metadata": {},
   "source": [
    "Sorting and printing out the features and their importance"
   ]
  },
  {
   "cell_type": "code",
   "execution_count": 38,
   "metadata": {},
   "outputs": [
    {
     "name": "stdout",
     "output_type": "stream",
     "text": [
      "season_wins importance: 0.010190282678710671\n",
      "#_of_pit_stops importance: 0.010796490331374057\n",
      "circuitId importance: 0.010811590392314902\n",
      "constructorId importance: 0.014967745493295779\n",
      "q1_time importance: 0.018338099977580916\n",
      "q3_time importance: 0.021185453668838724\n",
      "fastest_lap importance: 0.023320745102844723\n",
      "driverId importance: 0.023729128184251814\n",
      "average_lap importance: 0.026415856176405936\n",
      "q2_time importance: 0.02816098875688046\n",
      "slowest_lap importance: 0.03281717416033732\n",
      "fastest_lap_speed(km/h) importance: 0.0341697208675136\n",
      "statusId importance: 0.04404251328012257\n",
      "total_time_in_pit importance: 0.04489291402788409\n",
      "fastest_lap_rank importance: 0.04517039479130184\n",
      "season_points importance: 0.06035903547324931\n",
      "qual_position importance: 0.11470866924710822\n",
      "season_position importance: 0.4359231973899852\n"
     ]
    }
   ],
   "source": [
    "importances = tree.feature_importances_\n",
    "\n",
    "feature_list = []\n",
    "\n",
    "for ind, feature in enumerate(X.columns):\n",
    "    feature_list.append(feature)\n",
    "\n",
    "sorted_index = importances.argsort()\n",
    "\n",
    "sorted_importances = []\n",
    "sorted_features = []\n",
    "\n",
    "for i in sorted_index:\n",
    "    sorted_importances.append(importances[i])\n",
    "    sorted_features.append(feature_list[i])\n",
    "\n",
    "for i in range(len(sorted_features)):\n",
    "    print(f'{sorted_features[i]} importance: {sorted_importances[i]}')"
   ]
  },
  {
   "attachments": {},
   "cell_type": "markdown",
   "metadata": {},
   "source": [
    "Plotting the features and their importances"
   ]
  },
  {
   "cell_type": "code",
   "execution_count": 39,
   "metadata": {},
   "outputs": [
    {
     "data": {
      "image/png": "[encoded data removed]",
      "text/plain": [
       "<Figure size 720x432 with 1 Axes>"
      ]
     },
     "metadata": {
      "needs_background": "light"
     },
     "output_type": "display_data"
    }
   ],
   "source": [
    "plt.figure(figsize = (10, 6))\n",
    "plt.bar(sorted_features, sorted_importances)\n",
    "plt.xlabel(\"Feature\")\n",
    "plt.ylabel(\"Importance\")\n",
    "plt.title(\"Importances of Features to Determine Final Race Position\")\n",
    "plt.xticks(rotation = 90)\n",
    "plt.show()"
   ]
  },
  {
   "attachments": {},
   "cell_type": "markdown",
   "metadata": {},
   "source": [
    "# Step 4: Analysis and Conclusion\n"
   ]
  },
  {
   "attachments": {},
   "cell_type": "markdown",
   "metadata": {},
   "source": [
    "Looking at the machine learning model, there are a variety of takeaways. The most important of which are the importance of certain features in determining whether or not a driver will achieve a podium. Looking at the importances and the bar chart, it can be seen that season_position is the single most important variable in determining a whether or not a driver achieves a podium for any given race. Reflecting on why this may be the case, it definitely does make sense because of the fact that season_position is a way to determine how successful a driver and their team is in the season up to the point of the race. This metric captures a variety of details behind the scenes, such as how good the driver actually is, how fast the car is relative to others, and how effective team decisions have been. Obvioiusly, if the driver is good, the car is fast, and the team is making good decisions, it is likely that they will have a high season_position and be able to achieve a podium for most races. Especially in the past in Formula 1, before there was a cost cap, there would be a clear distinction between factors such as car speed and team personel among different teams, as some teams were able to spend millions of more dollars on their cars and teams since they were able to afford it. \n",
    "\n",
    "The only other distinctly important feature, which is the second most important feature in determining a driver podium, is their position in qualifying. This shows that how well drivers do in the qualifying session leading up to the race can have a large impact on how they perform in the acutal race. As a result, it can be seen that these qualifying sessions are really important, which makes sense intuitively. If a driver does well during these sessions, they are likely to start at the front of the race and thus, are more likely to earn a top 3 placement. The importance of qualifying shows that drivers cannot only rely on their skills during the race, but most also perform well during qualifying sessions in order to better set themselves up for success. To do so, teams must support the driver to ensure that the car is finely tuned for the qualifying sessions and proper adjustments are made so that the driver can be best set up for the qualifying sessions. \n",
    "\n",
    "Beyond these two factors, there were not any other factors that seemed significantly more important than the other, which was a bit surprising. The lack importance in features such as fastest_lap, average_lap, and fastest_lap_speed were all relatively surprising. Intuitively, it would make sense that having the fastest average lap time would correspond to a higher placement, but that is not the case with the model, which is rather surprising. Similarly, a higher fastest_lap_speed would indicate that the car would be the fastest for the race, but it also was not important in determining podium finishes for drivers. Both of these things further emphasize the importance of the qualifying position because fast average lap times and high speeds are both factors that should intuitively lead to a higher podium, yet even these two things are not able to overcome starting position, as determined by the qualifying_position. \n",
    "\n",
    "Lastly, it is important to consider that the model has a high accuracy at about 90%, meaning that the model does a very good job in classifying those that get a podium finish for a given race, and those that do not. This high accuracy gives the importances of these features more value because it shows that the model is actually making correct predictions. If the model was less successful, with a lower accuracy rate, the importance of the features would be less valuable because the predictions would be less reliable. As a result, the model's high accuracy rate not only reinforces the significance of the identified features, but it also indicates their potential usefulness in predicting future podium finishes in similar races. "
   ]
  }
 ],
 "metadata": {
  "kernelspec": {
   "display_name": "base",
   "language": "python",
   "name": "python3"
  },
  "language_info": {
   "codemirror_mode": {
    "name": "ipython",
    "version": 3
   },
   "file_extension": ".py",
   "mimetype": "text/x-python",
   "name": "python",
   "nbconvert_exporter": "python",
   "pygments_lexer": "ipython3",
   "version": "3.9.7"
  },
  "orig_nbformat": 4
 },
 "nbformat": 4,
 "nbformat_minor": 2
}
